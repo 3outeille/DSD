{
  "nbformat": 4,
  "nbformat_minor": 0,
  "metadata": {
    "colab": {
      "name": "mnist-dsd-pytorch.ipynb",
      "provenance": [],
      "collapsed_sections": [],
      "toc_visible": true
    },
    "kernelspec": {
      "display_name": "Python 3",
      "name": "python3"
    },
    "language_info": {
      "name": "python"
    },
    "widgets": {
      "application/vnd.jupyter.widget-state+json": {
        "5bdde309121246e0887721d4c59373f2": {
          "model_module": "@jupyter-widgets/controls",
          "model_name": "HBoxModel",
          "state": {
            "_view_name": "HBoxView",
            "_dom_classes": [],
            "_model_name": "HBoxModel",
            "_view_module": "@jupyter-widgets/controls",
            "_model_module_version": "1.5.0",
            "_view_count": null,
            "_view_module_version": "1.5.0",
            "box_style": "",
            "layout": "IPY_MODEL_f9e1a14fcf92423d82dd60d1b8f77bbd",
            "_model_module": "@jupyter-widgets/controls",
            "children": [
              "IPY_MODEL_0ef3df5727e44fa6974feb40af80f1f0",
              "IPY_MODEL_21528ba201424fc58de7bdaf0ba29e37"
            ]
          }
        },
        "f9e1a14fcf92423d82dd60d1b8f77bbd": {
          "model_module": "@jupyter-widgets/base",
          "model_name": "LayoutModel",
          "state": {
            "_view_name": "LayoutView",
            "grid_template_rows": null,
            "right": null,
            "justify_content": null,
            "_view_module": "@jupyter-widgets/base",
            "overflow": null,
            "_model_module_version": "1.2.0",
            "_view_count": null,
            "flex_flow": null,
            "width": null,
            "min_width": null,
            "border": null,
            "align_items": null,
            "bottom": null,
            "_model_module": "@jupyter-widgets/base",
            "top": null,
            "grid_column": null,
            "overflow_y": null,
            "overflow_x": null,
            "grid_auto_flow": null,
            "grid_area": null,
            "grid_template_columns": null,
            "flex": null,
            "_model_name": "LayoutModel",
            "justify_items": null,
            "grid_row": null,
            "max_height": null,
            "align_content": null,
            "visibility": null,
            "align_self": null,
            "height": null,
            "min_height": null,
            "padding": null,
            "grid_auto_rows": null,
            "grid_gap": null,
            "max_width": null,
            "order": null,
            "_view_module_version": "1.2.0",
            "grid_template_areas": null,
            "object_position": null,
            "object_fit": null,
            "grid_auto_columns": null,
            "margin": null,
            "display": null,
            "left": null
          }
        },
        "0ef3df5727e44fa6974feb40af80f1f0": {
          "model_module": "@jupyter-widgets/controls",
          "model_name": "FloatProgressModel",
          "state": {
            "_view_name": "ProgressView",
            "style": "IPY_MODEL_3f05e036456f4c4d88fb6ce414e4aaec",
            "_dom_classes": [],
            "description": "",
            "_model_name": "FloatProgressModel",
            "bar_style": "success",
            "max": 9912422,
            "_view_module": "@jupyter-widgets/controls",
            "_model_module_version": "1.5.0",
            "value": 9912422,
            "_view_count": null,
            "_view_module_version": "1.5.0",
            "orientation": "horizontal",
            "min": 0,
            "description_tooltip": null,
            "_model_module": "@jupyter-widgets/controls",
            "layout": "IPY_MODEL_cdcbdb034caa43468a4241db7af6c947"
          }
        },
        "21528ba201424fc58de7bdaf0ba29e37": {
          "model_module": "@jupyter-widgets/controls",
          "model_name": "HTMLModel",
          "state": {
            "_view_name": "HTMLView",
            "style": "IPY_MODEL_2299236e317f4306be2975011a9e9141",
            "_dom_classes": [],
            "description": "",
            "_model_name": "HTMLModel",
            "placeholder": "​",
            "_view_module": "@jupyter-widgets/controls",
            "_model_module_version": "1.5.0",
            "value": " 9913344/? [06:27&lt;00:00, 25585.71it/s]",
            "_view_count": null,
            "_view_module_version": "1.5.0",
            "description_tooltip": null,
            "_model_module": "@jupyter-widgets/controls",
            "layout": "IPY_MODEL_a7445d7da96544c4bb3a7ba96c2f51c3"
          }
        },
        "3f05e036456f4c4d88fb6ce414e4aaec": {
          "model_module": "@jupyter-widgets/controls",
          "model_name": "ProgressStyleModel",
          "state": {
            "_view_name": "StyleView",
            "_model_name": "ProgressStyleModel",
            "description_width": "initial",
            "_view_module": "@jupyter-widgets/base",
            "_model_module_version": "1.5.0",
            "_view_count": null,
            "_view_module_version": "1.2.0",
            "bar_color": null,
            "_model_module": "@jupyter-widgets/controls"
          }
        },
        "cdcbdb034caa43468a4241db7af6c947": {
          "model_module": "@jupyter-widgets/base",
          "model_name": "LayoutModel",
          "state": {
            "_view_name": "LayoutView",
            "grid_template_rows": null,
            "right": null,
            "justify_content": null,
            "_view_module": "@jupyter-widgets/base",
            "overflow": null,
            "_model_module_version": "1.2.0",
            "_view_count": null,
            "flex_flow": null,
            "width": null,
            "min_width": null,
            "border": null,
            "align_items": null,
            "bottom": null,
            "_model_module": "@jupyter-widgets/base",
            "top": null,
            "grid_column": null,
            "overflow_y": null,
            "overflow_x": null,
            "grid_auto_flow": null,
            "grid_area": null,
            "grid_template_columns": null,
            "flex": null,
            "_model_name": "LayoutModel",
            "justify_items": null,
            "grid_row": null,
            "max_height": null,
            "align_content": null,
            "visibility": null,
            "align_self": null,
            "height": null,
            "min_height": null,
            "padding": null,
            "grid_auto_rows": null,
            "grid_gap": null,
            "max_width": null,
            "order": null,
            "_view_module_version": "1.2.0",
            "grid_template_areas": null,
            "object_position": null,
            "object_fit": null,
            "grid_auto_columns": null,
            "margin": null,
            "display": null,
            "left": null
          }
        },
        "2299236e317f4306be2975011a9e9141": {
          "model_module": "@jupyter-widgets/controls",
          "model_name": "DescriptionStyleModel",
          "state": {
            "_view_name": "StyleView",
            "_model_name": "DescriptionStyleModel",
            "description_width": "",
            "_view_module": "@jupyter-widgets/base",
            "_model_module_version": "1.5.0",
            "_view_count": null,
            "_view_module_version": "1.2.0",
            "_model_module": "@jupyter-widgets/controls"
          }
        },
        "a7445d7da96544c4bb3a7ba96c2f51c3": {
          "model_module": "@jupyter-widgets/base",
          "model_name": "LayoutModel",
          "state": {
            "_view_name": "LayoutView",
            "grid_template_rows": null,
            "right": null,
            "justify_content": null,
            "_view_module": "@jupyter-widgets/base",
            "overflow": null,
            "_model_module_version": "1.2.0",
            "_view_count": null,
            "flex_flow": null,
            "width": null,
            "min_width": null,
            "border": null,
            "align_items": null,
            "bottom": null,
            "_model_module": "@jupyter-widgets/base",
            "top": null,
            "grid_column": null,
            "overflow_y": null,
            "overflow_x": null,
            "grid_auto_flow": null,
            "grid_area": null,
            "grid_template_columns": null,
            "flex": null,
            "_model_name": "LayoutModel",
            "justify_items": null,
            "grid_row": null,
            "max_height": null,
            "align_content": null,
            "visibility": null,
            "align_self": null,
            "height": null,
            "min_height": null,
            "padding": null,
            "grid_auto_rows": null,
            "grid_gap": null,
            "max_width": null,
            "order": null,
            "_view_module_version": "1.2.0",
            "grid_template_areas": null,
            "object_position": null,
            "object_fit": null,
            "grid_auto_columns": null,
            "margin": null,
            "display": null,
            "left": null
          }
        },
        "4435d8a46a6d42288cdcad6e93a5879a": {
          "model_module": "@jupyter-widgets/controls",
          "model_name": "HBoxModel",
          "state": {
            "_view_name": "HBoxView",
            "_dom_classes": [],
            "_model_name": "HBoxModel",
            "_view_module": "@jupyter-widgets/controls",
            "_model_module_version": "1.5.0",
            "_view_count": null,
            "_view_module_version": "1.5.0",
            "box_style": "",
            "layout": "IPY_MODEL_33ebaf11383c419b8647ae8ab8c9a344",
            "_model_module": "@jupyter-widgets/controls",
            "children": [
              "IPY_MODEL_f228aa021e58406ebe5aa2d1139e3187",
              "IPY_MODEL_2dd0b48b68c5461fb2ea5db6a957bdbf"
            ]
          }
        },
        "33ebaf11383c419b8647ae8ab8c9a344": {
          "model_module": "@jupyter-widgets/base",
          "model_name": "LayoutModel",
          "state": {
            "_view_name": "LayoutView",
            "grid_template_rows": null,
            "right": null,
            "justify_content": null,
            "_view_module": "@jupyter-widgets/base",
            "overflow": null,
            "_model_module_version": "1.2.0",
            "_view_count": null,
            "flex_flow": null,
            "width": null,
            "min_width": null,
            "border": null,
            "align_items": null,
            "bottom": null,
            "_model_module": "@jupyter-widgets/base",
            "top": null,
            "grid_column": null,
            "overflow_y": null,
            "overflow_x": null,
            "grid_auto_flow": null,
            "grid_area": null,
            "grid_template_columns": null,
            "flex": null,
            "_model_name": "LayoutModel",
            "justify_items": null,
            "grid_row": null,
            "max_height": null,
            "align_content": null,
            "visibility": null,
            "align_self": null,
            "height": null,
            "min_height": null,
            "padding": null,
            "grid_auto_rows": null,
            "grid_gap": null,
            "max_width": null,
            "order": null,
            "_view_module_version": "1.2.0",
            "grid_template_areas": null,
            "object_position": null,
            "object_fit": null,
            "grid_auto_columns": null,
            "margin": null,
            "display": null,
            "left": null
          }
        },
        "f228aa021e58406ebe5aa2d1139e3187": {
          "model_module": "@jupyter-widgets/controls",
          "model_name": "FloatProgressModel",
          "state": {
            "_view_name": "ProgressView",
            "style": "IPY_MODEL_9f8a88e49fdf4f64b8025ac374fe1b2b",
            "_dom_classes": [],
            "description": "",
            "_model_name": "FloatProgressModel",
            "bar_style": "success",
            "max": 28881,
            "_view_module": "@jupyter-widgets/controls",
            "_model_module_version": "1.5.0",
            "value": 28881,
            "_view_count": null,
            "_view_module_version": "1.5.0",
            "orientation": "horizontal",
            "min": 0,
            "description_tooltip": null,
            "_model_module": "@jupyter-widgets/controls",
            "layout": "IPY_MODEL_d2101a5c26164be98e733b0c79f6f31a"
          }
        },
        "2dd0b48b68c5461fb2ea5db6a957bdbf": {
          "model_module": "@jupyter-widgets/controls",
          "model_name": "HTMLModel",
          "state": {
            "_view_name": "HTMLView",
            "style": "IPY_MODEL_52e66935c1b340d99023bfbff771ba9b",
            "_dom_classes": [],
            "description": "",
            "_model_name": "HTMLModel",
            "placeholder": "​",
            "_view_module": "@jupyter-widgets/controls",
            "_model_module_version": "1.5.0",
            "value": " 29696/? [00:00&lt;00:00, 47250.46it/s]",
            "_view_count": null,
            "_view_module_version": "1.5.0",
            "description_tooltip": null,
            "_model_module": "@jupyter-widgets/controls",
            "layout": "IPY_MODEL_731a7ba566fb4255acad8f5354bc2588"
          }
        },
        "9f8a88e49fdf4f64b8025ac374fe1b2b": {
          "model_module": "@jupyter-widgets/controls",
          "model_name": "ProgressStyleModel",
          "state": {
            "_view_name": "StyleView",
            "_model_name": "ProgressStyleModel",
            "description_width": "initial",
            "_view_module": "@jupyter-widgets/base",
            "_model_module_version": "1.5.0",
            "_view_count": null,
            "_view_module_version": "1.2.0",
            "bar_color": null,
            "_model_module": "@jupyter-widgets/controls"
          }
        },
        "d2101a5c26164be98e733b0c79f6f31a": {
          "model_module": "@jupyter-widgets/base",
          "model_name": "LayoutModel",
          "state": {
            "_view_name": "LayoutView",
            "grid_template_rows": null,
            "right": null,
            "justify_content": null,
            "_view_module": "@jupyter-widgets/base",
            "overflow": null,
            "_model_module_version": "1.2.0",
            "_view_count": null,
            "flex_flow": null,
            "width": null,
            "min_width": null,
            "border": null,
            "align_items": null,
            "bottom": null,
            "_model_module": "@jupyter-widgets/base",
            "top": null,
            "grid_column": null,
            "overflow_y": null,
            "overflow_x": null,
            "grid_auto_flow": null,
            "grid_area": null,
            "grid_template_columns": null,
            "flex": null,
            "_model_name": "LayoutModel",
            "justify_items": null,
            "grid_row": null,
            "max_height": null,
            "align_content": null,
            "visibility": null,
            "align_self": null,
            "height": null,
            "min_height": null,
            "padding": null,
            "grid_auto_rows": null,
            "grid_gap": null,
            "max_width": null,
            "order": null,
            "_view_module_version": "1.2.0",
            "grid_template_areas": null,
            "object_position": null,
            "object_fit": null,
            "grid_auto_columns": null,
            "margin": null,
            "display": null,
            "left": null
          }
        },
        "52e66935c1b340d99023bfbff771ba9b": {
          "model_module": "@jupyter-widgets/controls",
          "model_name": "DescriptionStyleModel",
          "state": {
            "_view_name": "StyleView",
            "_model_name": "DescriptionStyleModel",
            "description_width": "",
            "_view_module": "@jupyter-widgets/base",
            "_model_module_version": "1.5.0",
            "_view_count": null,
            "_view_module_version": "1.2.0",
            "_model_module": "@jupyter-widgets/controls"
          }
        },
        "731a7ba566fb4255acad8f5354bc2588": {
          "model_module": "@jupyter-widgets/base",
          "model_name": "LayoutModel",
          "state": {
            "_view_name": "LayoutView",
            "grid_template_rows": null,
            "right": null,
            "justify_content": null,
            "_view_module": "@jupyter-widgets/base",
            "overflow": null,
            "_model_module_version": "1.2.0",
            "_view_count": null,
            "flex_flow": null,
            "width": null,
            "min_width": null,
            "border": null,
            "align_items": null,
            "bottom": null,
            "_model_module": "@jupyter-widgets/base",
            "top": null,
            "grid_column": null,
            "overflow_y": null,
            "overflow_x": null,
            "grid_auto_flow": null,
            "grid_area": null,
            "grid_template_columns": null,
            "flex": null,
            "_model_name": "LayoutModel",
            "justify_items": null,
            "grid_row": null,
            "max_height": null,
            "align_content": null,
            "visibility": null,
            "align_self": null,
            "height": null,
            "min_height": null,
            "padding": null,
            "grid_auto_rows": null,
            "grid_gap": null,
            "max_width": null,
            "order": null,
            "_view_module_version": "1.2.0",
            "grid_template_areas": null,
            "object_position": null,
            "object_fit": null,
            "grid_auto_columns": null,
            "margin": null,
            "display": null,
            "left": null
          }
        },
        "a54180f92ccc488588e30f3f9efeb901": {
          "model_module": "@jupyter-widgets/controls",
          "model_name": "HBoxModel",
          "state": {
            "_view_name": "HBoxView",
            "_dom_classes": [],
            "_model_name": "HBoxModel",
            "_view_module": "@jupyter-widgets/controls",
            "_model_module_version": "1.5.0",
            "_view_count": null,
            "_view_module_version": "1.5.0",
            "box_style": "",
            "layout": "IPY_MODEL_09066165cf354ba0a013f7e42d5c41f7",
            "_model_module": "@jupyter-widgets/controls",
            "children": [
              "IPY_MODEL_c697c31f16db487bb921c4311c325b45",
              "IPY_MODEL_2ee6e29f944e4b9e9392c7b3a6fd47fe"
            ]
          }
        },
        "09066165cf354ba0a013f7e42d5c41f7": {
          "model_module": "@jupyter-widgets/base",
          "model_name": "LayoutModel",
          "state": {
            "_view_name": "LayoutView",
            "grid_template_rows": null,
            "right": null,
            "justify_content": null,
            "_view_module": "@jupyter-widgets/base",
            "overflow": null,
            "_model_module_version": "1.2.0",
            "_view_count": null,
            "flex_flow": null,
            "width": null,
            "min_width": null,
            "border": null,
            "align_items": null,
            "bottom": null,
            "_model_module": "@jupyter-widgets/base",
            "top": null,
            "grid_column": null,
            "overflow_y": null,
            "overflow_x": null,
            "grid_auto_flow": null,
            "grid_area": null,
            "grid_template_columns": null,
            "flex": null,
            "_model_name": "LayoutModel",
            "justify_items": null,
            "grid_row": null,
            "max_height": null,
            "align_content": null,
            "visibility": null,
            "align_self": null,
            "height": null,
            "min_height": null,
            "padding": null,
            "grid_auto_rows": null,
            "grid_gap": null,
            "max_width": null,
            "order": null,
            "_view_module_version": "1.2.0",
            "grid_template_areas": null,
            "object_position": null,
            "object_fit": null,
            "grid_auto_columns": null,
            "margin": null,
            "display": null,
            "left": null
          }
        },
        "c697c31f16db487bb921c4311c325b45": {
          "model_module": "@jupyter-widgets/controls",
          "model_name": "FloatProgressModel",
          "state": {
            "_view_name": "ProgressView",
            "style": "IPY_MODEL_4e2f832d686a4163b9711a9a141c8476",
            "_dom_classes": [],
            "description": "",
            "_model_name": "FloatProgressModel",
            "bar_style": "success",
            "max": 1648877,
            "_view_module": "@jupyter-widgets/controls",
            "_model_module_version": "1.5.0",
            "value": 1648877,
            "_view_count": null,
            "_view_module_version": "1.5.0",
            "orientation": "horizontal",
            "min": 0,
            "description_tooltip": null,
            "_model_module": "@jupyter-widgets/controls",
            "layout": "IPY_MODEL_cb116c339f5740d6b4732a1cd0d8ef44"
          }
        },
        "2ee6e29f944e4b9e9392c7b3a6fd47fe": {
          "model_module": "@jupyter-widgets/controls",
          "model_name": "HTMLModel",
          "state": {
            "_view_name": "HTMLView",
            "style": "IPY_MODEL_21ae2dda0f98415089dfdeed20617ce6",
            "_dom_classes": [],
            "description": "",
            "_model_name": "HTMLModel",
            "placeholder": "​",
            "_view_module": "@jupyter-widgets/controls",
            "_model_module_version": "1.5.0",
            "value": " 1649664/? [01:45&lt;00:00, 15635.67it/s]",
            "_view_count": null,
            "_view_module_version": "1.5.0",
            "description_tooltip": null,
            "_model_module": "@jupyter-widgets/controls",
            "layout": "IPY_MODEL_16df28bfe09f405f93ca95ff714f27db"
          }
        },
        "4e2f832d686a4163b9711a9a141c8476": {
          "model_module": "@jupyter-widgets/controls",
          "model_name": "ProgressStyleModel",
          "state": {
            "_view_name": "StyleView",
            "_model_name": "ProgressStyleModel",
            "description_width": "initial",
            "_view_module": "@jupyter-widgets/base",
            "_model_module_version": "1.5.0",
            "_view_count": null,
            "_view_module_version": "1.2.0",
            "bar_color": null,
            "_model_module": "@jupyter-widgets/controls"
          }
        },
        "cb116c339f5740d6b4732a1cd0d8ef44": {
          "model_module": "@jupyter-widgets/base",
          "model_name": "LayoutModel",
          "state": {
            "_view_name": "LayoutView",
            "grid_template_rows": null,
            "right": null,
            "justify_content": null,
            "_view_module": "@jupyter-widgets/base",
            "overflow": null,
            "_model_module_version": "1.2.0",
            "_view_count": null,
            "flex_flow": null,
            "width": null,
            "min_width": null,
            "border": null,
            "align_items": null,
            "bottom": null,
            "_model_module": "@jupyter-widgets/base",
            "top": null,
            "grid_column": null,
            "overflow_y": null,
            "overflow_x": null,
            "grid_auto_flow": null,
            "grid_area": null,
            "grid_template_columns": null,
            "flex": null,
            "_model_name": "LayoutModel",
            "justify_items": null,
            "grid_row": null,
            "max_height": null,
            "align_content": null,
            "visibility": null,
            "align_self": null,
            "height": null,
            "min_height": null,
            "padding": null,
            "grid_auto_rows": null,
            "grid_gap": null,
            "max_width": null,
            "order": null,
            "_view_module_version": "1.2.0",
            "grid_template_areas": null,
            "object_position": null,
            "object_fit": null,
            "grid_auto_columns": null,
            "margin": null,
            "display": null,
            "left": null
          }
        },
        "21ae2dda0f98415089dfdeed20617ce6": {
          "model_module": "@jupyter-widgets/controls",
          "model_name": "DescriptionStyleModel",
          "state": {
            "_view_name": "StyleView",
            "_model_name": "DescriptionStyleModel",
            "description_width": "",
            "_view_module": "@jupyter-widgets/base",
            "_model_module_version": "1.5.0",
            "_view_count": null,
            "_view_module_version": "1.2.0",
            "_model_module": "@jupyter-widgets/controls"
          }
        },
        "16df28bfe09f405f93ca95ff714f27db": {
          "model_module": "@jupyter-widgets/base",
          "model_name": "LayoutModel",
          "state": {
            "_view_name": "LayoutView",
            "grid_template_rows": null,
            "right": null,
            "justify_content": null,
            "_view_module": "@jupyter-widgets/base",
            "overflow": null,
            "_model_module_version": "1.2.0",
            "_view_count": null,
            "flex_flow": null,
            "width": null,
            "min_width": null,
            "border": null,
            "align_items": null,
            "bottom": null,
            "_model_module": "@jupyter-widgets/base",
            "top": null,
            "grid_column": null,
            "overflow_y": null,
            "overflow_x": null,
            "grid_auto_flow": null,
            "grid_area": null,
            "grid_template_columns": null,
            "flex": null,
            "_model_name": "LayoutModel",
            "justify_items": null,
            "grid_row": null,
            "max_height": null,
            "align_content": null,
            "visibility": null,
            "align_self": null,
            "height": null,
            "min_height": null,
            "padding": null,
            "grid_auto_rows": null,
            "grid_gap": null,
            "max_width": null,
            "order": null,
            "_view_module_version": "1.2.0",
            "grid_template_areas": null,
            "object_position": null,
            "object_fit": null,
            "grid_auto_columns": null,
            "margin": null,
            "display": null,
            "left": null
          }
        },
        "a2831666a56e4d69afe608394ef76623": {
          "model_module": "@jupyter-widgets/controls",
          "model_name": "HBoxModel",
          "state": {
            "_view_name": "HBoxView",
            "_dom_classes": [],
            "_model_name": "HBoxModel",
            "_view_module": "@jupyter-widgets/controls",
            "_model_module_version": "1.5.0",
            "_view_count": null,
            "_view_module_version": "1.5.0",
            "box_style": "",
            "layout": "IPY_MODEL_eae8aa72c845417caa6727c83b89e232",
            "_model_module": "@jupyter-widgets/controls",
            "children": [
              "IPY_MODEL_102fb5cd80d9401e97d49a13cb0b418a",
              "IPY_MODEL_c3f195d4e9204fe09de068700812ff1c"
            ]
          }
        },
        "eae8aa72c845417caa6727c83b89e232": {
          "model_module": "@jupyter-widgets/base",
          "model_name": "LayoutModel",
          "state": {
            "_view_name": "LayoutView",
            "grid_template_rows": null,
            "right": null,
            "justify_content": null,
            "_view_module": "@jupyter-widgets/base",
            "overflow": null,
            "_model_module_version": "1.2.0",
            "_view_count": null,
            "flex_flow": null,
            "width": null,
            "min_width": null,
            "border": null,
            "align_items": null,
            "bottom": null,
            "_model_module": "@jupyter-widgets/base",
            "top": null,
            "grid_column": null,
            "overflow_y": null,
            "overflow_x": null,
            "grid_auto_flow": null,
            "grid_area": null,
            "grid_template_columns": null,
            "flex": null,
            "_model_name": "LayoutModel",
            "justify_items": null,
            "grid_row": null,
            "max_height": null,
            "align_content": null,
            "visibility": null,
            "align_self": null,
            "height": null,
            "min_height": null,
            "padding": null,
            "grid_auto_rows": null,
            "grid_gap": null,
            "max_width": null,
            "order": null,
            "_view_module_version": "1.2.0",
            "grid_template_areas": null,
            "object_position": null,
            "object_fit": null,
            "grid_auto_columns": null,
            "margin": null,
            "display": null,
            "left": null
          }
        },
        "102fb5cd80d9401e97d49a13cb0b418a": {
          "model_module": "@jupyter-widgets/controls",
          "model_name": "FloatProgressModel",
          "state": {
            "_view_name": "ProgressView",
            "style": "IPY_MODEL_1cfb1084f2344395ac6605376b5b0177",
            "_dom_classes": [],
            "description": "",
            "_model_name": "FloatProgressModel",
            "bar_style": "success",
            "max": 4542,
            "_view_module": "@jupyter-widgets/controls",
            "_model_module_version": "1.5.0",
            "value": 4542,
            "_view_count": null,
            "_view_module_version": "1.5.0",
            "orientation": "horizontal",
            "min": 0,
            "description_tooltip": null,
            "_model_module": "@jupyter-widgets/controls",
            "layout": "IPY_MODEL_b6da7a1f2538417288086d80755c4e71"
          }
        },
        "c3f195d4e9204fe09de068700812ff1c": {
          "model_module": "@jupyter-widgets/controls",
          "model_name": "HTMLModel",
          "state": {
            "_view_name": "HTMLView",
            "style": "IPY_MODEL_47c77222afdd47108ea2a5c384a8dd0f",
            "_dom_classes": [],
            "description": "",
            "_model_name": "HTMLModel",
            "placeholder": "​",
            "_view_module": "@jupyter-widgets/controls",
            "_model_module_version": "1.5.0",
            "value": " 5120/? [00:00&lt;00:00, 16534.75it/s]",
            "_view_count": null,
            "_view_module_version": "1.5.0",
            "description_tooltip": null,
            "_model_module": "@jupyter-widgets/controls",
            "layout": "IPY_MODEL_cbd5b54eade0449c9f1147addf0d0fb9"
          }
        },
        "1cfb1084f2344395ac6605376b5b0177": {
          "model_module": "@jupyter-widgets/controls",
          "model_name": "ProgressStyleModel",
          "state": {
            "_view_name": "StyleView",
            "_model_name": "ProgressStyleModel",
            "description_width": "initial",
            "_view_module": "@jupyter-widgets/base",
            "_model_module_version": "1.5.0",
            "_view_count": null,
            "_view_module_version": "1.2.0",
            "bar_color": null,
            "_model_module": "@jupyter-widgets/controls"
          }
        },
        "b6da7a1f2538417288086d80755c4e71": {
          "model_module": "@jupyter-widgets/base",
          "model_name": "LayoutModel",
          "state": {
            "_view_name": "LayoutView",
            "grid_template_rows": null,
            "right": null,
            "justify_content": null,
            "_view_module": "@jupyter-widgets/base",
            "overflow": null,
            "_model_module_version": "1.2.0",
            "_view_count": null,
            "flex_flow": null,
            "width": null,
            "min_width": null,
            "border": null,
            "align_items": null,
            "bottom": null,
            "_model_module": "@jupyter-widgets/base",
            "top": null,
            "grid_column": null,
            "overflow_y": null,
            "overflow_x": null,
            "grid_auto_flow": null,
            "grid_area": null,
            "grid_template_columns": null,
            "flex": null,
            "_model_name": "LayoutModel",
            "justify_items": null,
            "grid_row": null,
            "max_height": null,
            "align_content": null,
            "visibility": null,
            "align_self": null,
            "height": null,
            "min_height": null,
            "padding": null,
            "grid_auto_rows": null,
            "grid_gap": null,
            "max_width": null,
            "order": null,
            "_view_module_version": "1.2.0",
            "grid_template_areas": null,
            "object_position": null,
            "object_fit": null,
            "grid_auto_columns": null,
            "margin": null,
            "display": null,
            "left": null
          }
        },
        "47c77222afdd47108ea2a5c384a8dd0f": {
          "model_module": "@jupyter-widgets/controls",
          "model_name": "DescriptionStyleModel",
          "state": {
            "_view_name": "StyleView",
            "_model_name": "DescriptionStyleModel",
            "description_width": "",
            "_view_module": "@jupyter-widgets/base",
            "_model_module_version": "1.5.0",
            "_view_count": null,
            "_view_module_version": "1.2.0",
            "_model_module": "@jupyter-widgets/controls"
          }
        },
        "cbd5b54eade0449c9f1147addf0d0fb9": {
          "model_module": "@jupyter-widgets/base",
          "model_name": "LayoutModel",
          "state": {
            "_view_name": "LayoutView",
            "grid_template_rows": null,
            "right": null,
            "justify_content": null,
            "_view_module": "@jupyter-widgets/base",
            "overflow": null,
            "_model_module_version": "1.2.0",
            "_view_count": null,
            "flex_flow": null,
            "width": null,
            "min_width": null,
            "border": null,
            "align_items": null,
            "bottom": null,
            "_model_module": "@jupyter-widgets/base",
            "top": null,
            "grid_column": null,
            "overflow_y": null,
            "overflow_x": null,
            "grid_auto_flow": null,
            "grid_area": null,
            "grid_template_columns": null,
            "flex": null,
            "_model_name": "LayoutModel",
            "justify_items": null,
            "grid_row": null,
            "max_height": null,
            "align_content": null,
            "visibility": null,
            "align_self": null,
            "height": null,
            "min_height": null,
            "padding": null,
            "grid_auto_rows": null,
            "grid_gap": null,
            "max_width": null,
            "order": null,
            "_view_module_version": "1.2.0",
            "grid_template_areas": null,
            "object_position": null,
            "object_fit": null,
            "grid_auto_columns": null,
            "margin": null,
            "display": null,
            "left": null
          }
        }
      }
    },
    "accelerator": "GPU"
  },
  "cells": [
    {
      "cell_type": "code",
      "metadata": {
        "id": "IyJB0-Hixf-N"
      },
      "source": [
        "from IPython.display import clear_output\n",
        "import matplotlib.pyplot as plt\n",
        "%matplotlib inline\n",
        "import numpy as np\n",
        "from PIL import Image\n",
        "import shutil\n",
        "import random\n",
        "import time\n",
        "import torch\n",
        "import torch.nn.functional as F\n",
        "import torch.optim as optim\n",
        "import torch.nn as nn\n",
        "from torch.utils.data import DataLoader, random_split\n",
        "from torchsummary import summary\n",
        "from torchvision import transforms, datasets\n",
        "\n",
        "from dsd import DSDTraining\n",
        "from utils import plot_wb, set_all_seed"
      ],
      "execution_count": 1,
      "outputs": []
    },
    {
      "cell_type": "markdown",
      "metadata": {
        "id": "rTvoersKxz6h"
      },
      "source": [
        "# I/ Dataset"
      ]
    },
    {
      "cell_type": "code",
      "metadata": {
        "id": "8fkBZulsx0ti"
      },
      "source": [
        "def load_mnist(BATCH_SIZE=64):\n",
        "    transform = transforms.Compose([transforms.Resize((32,32)),\n",
        "                                    transforms.ToTensor(),\n",
        "                                    transforms.Normalize(mean=[0.5], std=[0.5])])\n",
        "            \n",
        "    train_dataset = datasets.MNIST('./data', train=True, download=True, transform=transform)\n",
        "    test_dataset = datasets.MNIST('./data', train=False, download=True, transform=transform)\n",
        "    \n",
        "    # Clear downloading message.\n",
        "    clear_output()\n",
        "    \n",
        "    # Split dataset into training set and validation set.\n",
        "    train_dataset, val_dataset = random_split(train_dataset, (55000, 5000))\n",
        "    \n",
        "    print(\"Image Shape: {}\".format(train_dataset[0][0].numpy().shape), end = '\\n\\n')\n",
        "    print(\"Training Set:   {} samples\".format(len(train_dataset)))\n",
        "    print(\"Validation Set:   {} samples\".format(len(val_dataset)))\n",
        "    print(\"Test Set:       {} samples\".format(len(test_dataset)))\n",
        "    \n",
        "    # Create iterator.\n",
        "    train_loader = DataLoader(train_dataset, batch_size=BATCH_SIZE, shuffle=True)\n",
        "    val_loader = DataLoader(val_dataset, batch_size=BATCH_SIZE, shuffle=True)\n",
        "    test_loader = DataLoader(test_dataset, batch_size=len(test_dataset), shuffle=True)\n",
        "    \n",
        "    # Delete the data/ folder.\n",
        "    shutil.rmtree('./data')\n",
        "    \n",
        "    return (train_loader, val_loader, test_loader)"
      ],
      "execution_count": 2,
      "outputs": []
    },
    {
      "cell_type": "code",
      "metadata": {
        "colab": {
          "base_uri": "https://localhost:8080/",
          "height": 597,
          "referenced_widgets": [
            "5bdde309121246e0887721d4c59373f2",
            "f9e1a14fcf92423d82dd60d1b8f77bbd",
            "0ef3df5727e44fa6974feb40af80f1f0",
            "21528ba201424fc58de7bdaf0ba29e37",
            "3f05e036456f4c4d88fb6ce414e4aaec",
            "cdcbdb034caa43468a4241db7af6c947",
            "2299236e317f4306be2975011a9e9141",
            "a7445d7da96544c4bb3a7ba96c2f51c3",
            "4435d8a46a6d42288cdcad6e93a5879a",
            "33ebaf11383c419b8647ae8ab8c9a344",
            "f228aa021e58406ebe5aa2d1139e3187",
            "2dd0b48b68c5461fb2ea5db6a957bdbf",
            "9f8a88e49fdf4f64b8025ac374fe1b2b",
            "d2101a5c26164be98e733b0c79f6f31a",
            "52e66935c1b340d99023bfbff771ba9b",
            "731a7ba566fb4255acad8f5354bc2588",
            "a54180f92ccc488588e30f3f9efeb901",
            "09066165cf354ba0a013f7e42d5c41f7",
            "c697c31f16db487bb921c4311c325b45",
            "2ee6e29f944e4b9e9392c7b3a6fd47fe",
            "4e2f832d686a4163b9711a9a141c8476",
            "cb116c339f5740d6b4732a1cd0d8ef44",
            "21ae2dda0f98415089dfdeed20617ce6",
            "16df28bfe09f405f93ca95ff714f27db",
            "a2831666a56e4d69afe608394ef76623",
            "eae8aa72c845417caa6727c83b89e232",
            "102fb5cd80d9401e97d49a13cb0b418a",
            "c3f195d4e9204fe09de068700812ff1c",
            "1cfb1084f2344395ac6605376b5b0177",
            "b6da7a1f2538417288086d80755c4e71",
            "47c77222afdd47108ea2a5c384a8dd0f",
            "cbd5b54eade0449c9f1147addf0d0fb9"
          ]
        },
        "id": "mhKdF0CbzBGm",
        "outputId": "e96e9942-b567-49e3-d477-3e338949228a"
      },
      "source": [
        "train_loader, val_loader, test_loader = load_mnist()"
      ],
      "execution_count": 3,
      "outputs": [
        {
          "output_type": "stream",
          "text": [
            "Image Shape: (1, 32, 32)\n",
            "\n",
            "Training Set:   55000 samples\n",
            "Validation Set:   5000 samples\n",
            "Test Set:       10000 samples\n"
          ],
          "name": "stdout"
        }
      ]
    },
    {
      "cell_type": "markdown",
      "metadata": {
        "id": "YFwuMsLBx1w-"
      },
      "source": [
        "# II/ Model"
      ]
    },
    {
      "cell_type": "code",
      "metadata": {
        "id": "96HbITxY9jmL"
      },
      "source": [
        "class LeNet5(nn.Module):\n",
        "    \n",
        "    def __init__(self, num_classes=10):\n",
        "        super(LeNet5, self).__init__()\n",
        "\n",
        "        self.num_classes = num_classes\n",
        "\n",
        "        self.conv1 = nn.Conv2d(1, 6, kernel_size=5)\n",
        "        self.pool1 = nn.AvgPool2d(kernel_size=2, stride=2)\n",
        "        self.conv2 = nn.Conv2d(6, 16, kernel_size=5)\n",
        "        self.pool2 = nn.AvgPool2d(kernel_size=2, stride=2)\n",
        "\n",
        "        self.fc1 = nn.Linear(16*5*5, 120)\n",
        "        self.fc2 = nn.Linear(120, 84)\n",
        "        self.fc3 = nn.Linear(84, self.num_classes)  \n",
        "        \n",
        "    def forward(self, x):\n",
        "        x = torch.relu(self.conv1(x))\n",
        "        x = self.pool1(x)\n",
        "        x = torch.relu(self.conv2(x))\n",
        "        x = self.pool2(x)\n",
        "\n",
        "        x = x.view(-1, 16*5*5)\n",
        "        \n",
        "        x = torch.relu(self.fc1(x))\n",
        "        x = torch.relu(self.fc2(x))\n",
        "        x = self.fc3(x)\n",
        "    \n",
        "        return x"
      ],
      "execution_count": 4,
      "outputs": []
    },
    {
      "cell_type": "code",
      "metadata": {
        "id": "r5V5sy6e_naT",
        "colab": {
          "base_uri": "https://localhost:8080/"
        },
        "outputId": "174b2ebb-6235-4220-d395-8e216905fb90"
      },
      "source": [
        "model = LeNet5()\n",
        "device = torch.device(\"cuda\" if torch.cuda.is_available() else \"cpu\")\n",
        "model.to(device)\n",
        "dsd_model = DSDTraining(model, sparsity=0.3)\n",
        "summary(dsd_model, (1, 32, 32))"
      ],
      "execution_count": 5,
      "outputs": [
        {
          "output_type": "stream",
          "text": [
            "----------------------------------------------------------------\n",
            "        Layer (type)               Output Shape         Param #\n",
            "================================================================\n",
            "            Conv2d-1            [-1, 6, 28, 28]             156\n",
            "         AvgPool2d-2            [-1, 6, 14, 14]               0\n",
            "            Conv2d-3           [-1, 16, 10, 10]           2,416\n",
            "         AvgPool2d-4             [-1, 16, 5, 5]               0\n",
            "            Linear-5                  [-1, 120]          48,120\n",
            "            Linear-6                   [-1, 84]          10,164\n",
            "            Linear-7                   [-1, 10]             850\n",
            "            LeNet5-8                   [-1, 10]               0\n",
            "================================================================\n",
            "Total params: 61,706\n",
            "Trainable params: 61,706\n",
            "Non-trainable params: 0\n",
            "----------------------------------------------------------------\n",
            "Input size (MB): 0.00\n",
            "Forward/backward pass size (MB): 0.06\n",
            "Params size (MB): 0.24\n",
            "Estimated Total Size (MB): 0.30\n",
            "----------------------------------------------------------------\n"
          ],
          "name": "stdout"
        }
      ]
    },
    {
      "cell_type": "markdown",
      "metadata": {
        "id": "cN2P_xF0x5y-"
      },
      "source": [
        "# III/ Train"
      ]
    },
    {
      "cell_type": "code",
      "metadata": {
        "id": "c20h6UuKE3OJ"
      },
      "source": [
        "criterion = nn.CrossEntropyLoss()\n",
        "optimizer = optim.SGD(dsd_model.parameters(), lr=0.001, momentum=0.9, nesterov=True)"
      ],
      "execution_count": 6,
      "outputs": []
    },
    {
      "cell_type": "code",
      "metadata": {
        "id": "S8Gc5sdsytoC"
      },
      "source": [
        "def train_dsd(dsd_model, EPOCH_DENSE1, EPOCH_SPARSE, EPOCH_DENSE2, NB_TRAIN_EXAMPLES, NB_VAL_EXAMPLES):\n",
        "\n",
        "    EPOCHS = EPOCH_DENSE1 + EPOCH_SPARSE + EPOCH_DENSE2\n",
        "    train_costs, val_costs = [], []\n",
        "    \n",
        "    #Training phase.\n",
        "    for epoch in range(EPOCHS):\n",
        "\n",
        "        print(f\"{'Epoch':^7} | {'Batch':^7} | {'Train Loss':^12} | {'Train Acc':^12} | {'Val Loss':^10} | {'Val Acc':^10} | {'Elapsed':^9}\")\n",
        "        print(\"-\"*85)\n",
        "\n",
        "        # Measure the elapsed time of each epoch\n",
        "        t0_epoch, t0_batch = time.time(), time.time()\n",
        "\n",
        "        # DSD\n",
        "        if (epoch >= EPOCH_DENSE1 and epoch < EPOCH_DENSE1 + EPOCH_SPARSE):\n",
        "            dsd_model.train_on_sparse = True\n",
        "        else:\n",
        "            dsd_model.train_on_sparse = False\n",
        "\n",
        "        if dsd_model.train_on_sparse:\n",
        "            dsd_model.update_masks()\n",
        "\n",
        "        #------------------------------------------------\n",
        "        #                 TRAINING\n",
        "        #------------------------------------------------\n",
        "\n",
        "        train_loss, correct_train = 0, 0\n",
        "        batch_loss, correct_batch, batch_counts = 0, 0, 0\n",
        "        \n",
        "        if device == \"cuda\":\n",
        "          dsd_model.train().cuda()\n",
        "        \n",
        "        for step, (inputs, labels) in enumerate(train_loader):\n",
        "            \n",
        "            # Load data to GPU.\n",
        "            inputs, labels = inputs.to(device), labels.to(device)\n",
        "\n",
        "            # Zero the parameter gradients.\n",
        "            optimizer.zero_grad()\n",
        "            \n",
        "            # Forward pass.\n",
        "            prediction = dsd_model(inputs)\n",
        "\n",
        "            # Compute the loss.\n",
        "            loss = criterion(prediction, labels)\n",
        "            \n",
        "            # Backward pass.\n",
        "            loss.backward()\n",
        "\n",
        "            # Sparse-phase\n",
        "            if dsd_model.train_on_sparse:\n",
        "                for (w, b), (mask_w, mask_b) in zip(dsd_model.layers, dsd_model.masks):\n",
        "                    # Values\n",
        "                    w.data[mask_w] = 0\n",
        "                    b.data[mask_b] = 0\n",
        "                    # Grad\n",
        "                    w.grad.data[mask_w] = 0\n",
        "                    b.grad.data[mask_b] = 0\n",
        "            \n",
        "            # Optimize.\n",
        "            optimizer.step()\n",
        "            \n",
        "            # Compute training accuracy.\n",
        "            _, predicted = torch.max(prediction.data, 1)\n",
        "            correct_train += (predicted == labels).sum().item()\n",
        "            correct_batch += (predicted == labels).sum().item()\n",
        "            \n",
        "            # Compute batch loss.\n",
        "            batch_loss += (loss.data.item() * inputs.shape[0])\n",
        "            train_loss += (loss.data.item() * inputs.shape[0])\n",
        "\n",
        "            # Print the loss values and time elapsed for every 20 batches\n",
        "            if (step % 100 == 0 and step != 0) or (step == len(train_loader) - 1):\n",
        "                \n",
        "                time_elapsed = time.time() - t0_batch\n",
        "\n",
        "                print(f\"{epoch + 1:^7} | {step:^7} | {batch_loss / batch_counts:^12.6f} | {correct_batch / batch_counts:^12.6f} | {'-':^10} | {'-':^10} |  {time_elapsed:^9.2f}\")\n",
        "                batch_loss, correct_batch, batch_counts = 0, 0, 0\n",
        "                t0_batch = time.time()\n",
        "\n",
        "            batch_counts += inputs.shape[0]\n",
        "\n",
        "        train_loss /= NB_TRAIN_EXAMPLES\n",
        "        train_costs.append(train_loss)\n",
        "        train_acc =  correct_train / NB_TRAIN_EXAMPLES\n",
        "\n",
        "        print(\"-\"*85)\n",
        "\n",
        "        #------------------------------------------------\n",
        "        #                 VALIDATION\n",
        "        #------------------------------------------------\n",
        "\n",
        "        val_loss = 0\n",
        "        correct_val = 0\n",
        "        \n",
        "        if device == \"cuda\":\n",
        "          dsd_model.eval().cuda()\n",
        "        \n",
        "        with torch.no_grad():\n",
        "            for inputs, labels in val_loader:\n",
        "                # Load data to GPU.\n",
        "                inputs, labels = inputs.to(device), labels.to(device)\n",
        "\n",
        "                # Forward pass.\n",
        "                prediction = dsd_model(inputs)\n",
        "\n",
        "                # Compute the loss.\n",
        "                loss = criterion(prediction, labels)\n",
        "\n",
        "                # Compute training accuracy.\n",
        "                _, predicted = torch.max(prediction.data, 1)\n",
        "                correct_val += (predicted == labels).sum().item()\n",
        "\n",
        "                # Compute batch loss.\n",
        "                val_loss += (loss.data.item() * inputs.shape[0])\n",
        "\n",
        "            val_loss /= NB_VAL_EXAMPLES\n",
        "            val_costs.append(val_loss)\n",
        "            val_acc =  correct_val / NB_VAL_EXAMPLES\n",
        "\n",
        "        time_elapsed = time.time() - t0_epoch\n",
        "\n",
        "        info = \"[Epoch {}/{}]: train_on_sparse = {} | train-loss = {:0.6f} | train-acc = {:0.6f} | val-loss = {:0.6f} | val-acc = {:0.6f} | time_elapsed = {:0.2f}\"\n",
        "        print(info.format(epoch+1, EPOCHS, dsd_model.train_on_sparse, train_loss, train_acc, val_loss, val_acc, time_elapsed))\n",
        "        \n",
        "        # Save plots.\n",
        "        if (epoch + 1 == EPOCH_DENSE1):\n",
        "            plot_wb(dsd_model, \"dense1.png\")\n",
        "        elif (epoch + 1 == EPOCH_DENSE1 + EPOCH_SPARSE):\n",
        "            plot_wb(dsd_model, \"sparse.png\")\n",
        "        elif (epoch + 1 == EPOCHS):\n",
        "            plot_wb(dsd_model, \"dense2.png\")\n",
        "\n",
        "    return train_costs, val_costs"
      ],
      "execution_count": 7,
      "outputs": []
    },
    {
      "cell_type": "code",
      "metadata": {
        "colab": {
          "base_uri": "https://localhost:8080/"
        },
        "id": "o90Zmmj10Qdq",
        "outputId": "54210e81-5c86-4e1c-ff1d-0ec0fb3eb794"
      },
      "source": [
        "EPOCH_DENSE1 = 5\n",
        "EPOCH_SPARSE = 3\n",
        "EPOCH_DENSE2 = 5\n",
        "NB_TRAIN_EXAMPLES = len(train_loader.dataset)\n",
        "NB_VAL_EXAMPLES = len(val_loader.dataset)\n",
        "\n",
        "set_all_seed(42)\n",
        "train_costs, val_costs = train_dsd(dsd_model, EPOCH_DENSE1, EPOCH_SPARSE, EPOCH_DENSE2, NB_TRAIN_EXAMPLES, NB_VAL_EXAMPLES)"
      ],
      "execution_count": 8,
      "outputs": [
        {
          "output_type": "stream",
          "text": [
            " Epoch  |  Batch  |  Train Loss  |  Train Acc   |  Val Loss  |  Val Acc   |  Elapsed \n",
            "-------------------------------------------------------------------------------------\n",
            "   1    |   100   |   2.326412   |   0.102188   |     -      |     -      |    1.38   \n",
            "   1    |   200   |   2.298237   |   0.096094   |     -      |     -      |    1.27   \n",
            "   1    |   300   |   2.292200   |   0.163125   |     -      |     -      |    1.23   \n",
            "   1    |   400   |   2.282377   |   0.205781   |     -      |     -      |    1.25   \n",
            "   1    |   500   |   2.260664   |   0.180938   |     -      |     -      |    1.26   \n",
            "   1    |   600   |   2.212215   |   0.206406   |     -      |     -      |    1.28   \n",
            "   1    |   700   |   2.040131   |   0.343906   |     -      |     -      |    1.23   \n",
            "   1    |   800   |   1.414264   |   0.604844   |     -      |     -      |    1.24   \n",
            "   1    |   859   |   0.813322   |   0.751324   |     -      |     -      |    0.75   \n",
            "-------------------------------------------------------------------------------------\n",
            "[Epoch 1/13]: train_on_sparse = False | train-loss = 2.048740 | train-acc = 0.273055 | val-loss = 0.692938 | val-acc = 0.787800 | time_elapsed = 11.81\n",
            " Epoch  |  Batch  |  Train Loss  |  Train Acc   |  Val Loss  |  Val Acc   |  Elapsed \n",
            "-------------------------------------------------------------------------------------\n",
            "   2    |   100   |   0.625059   |   0.815781   |     -      |     -      |    1.31   \n",
            "   2    |   200   |   0.496805   |   0.851719   |     -      |     -      |    1.23   \n",
            "   2    |   300   |   0.450490   |   0.861094   |     -      |     -      |    1.23   \n",
            "   2    |   400   |   0.426281   |   0.870156   |     -      |     -      |    1.19   \n",
            "   2    |   500   |   0.411929   |   0.874531   |     -      |     -      |    1.20   \n",
            "   2    |   600   |   0.365607   |   0.885938   |     -      |     -      |    1.23   \n",
            "   2    |   700   |   0.379234   |   0.885625   |     -      |     -      |    1.21   \n",
            "   2    |   800   |   0.340267   |   0.895625   |     -      |     -      |    1.17   \n",
            "   2    |   859   |   0.357363   |   0.880561   |     -      |     -      |    0.71   \n",
            "-------------------------------------------------------------------------------------\n",
            "[Epoch 2/13]: train_on_sparse = False | train-loss = 0.431304 | train-acc = 0.868073 | val-loss = 0.327919 | val-acc = 0.902000 | time_elapsed = 11.27\n",
            " Epoch  |  Batch  |  Train Loss  |  Train Acc   |  Val Loss  |  Val Acc   |  Elapsed \n",
            "-------------------------------------------------------------------------------------\n",
            "   3    |   100   |   0.315576   |   0.912500   |     -      |     -      |    1.19   \n",
            "   3    |   200   |   0.315858   |   0.904531   |     -      |     -      |    1.16   \n",
            "   3    |   300   |   0.318314   |   0.900156   |     -      |     -      |    1.18   \n",
            "   3    |   400   |   0.292658   |   0.907344   |     -      |     -      |    1.18   \n",
            "   3    |   500   |   0.284845   |   0.914375   |     -      |     -      |    1.16   \n",
            "   3    |   600   |   0.279518   |   0.916250   |     -      |     -      |    1.20   \n",
            "   3    |   700   |   0.251832   |   0.926562   |     -      |     -      |    1.19   \n",
            "   3    |   800   |   0.255030   |   0.922344   |     -      |     -      |    1.21   \n",
            "   3    |   859   |   0.231660   |   0.916578   |     -      |     -      |    0.72   \n",
            "-------------------------------------------------------------------------------------\n",
            "[Epoch 3/13]: train_on_sparse = False | train-loss = 0.285127 | train-acc = 0.912855 | val-loss = 0.262991 | val-acc = 0.917000 | time_elapsed = 10.99\n",
            " Epoch  |  Batch  |  Train Loss  |  Train Acc   |  Val Loss  |  Val Acc   |  Elapsed \n",
            "-------------------------------------------------------------------------------------\n",
            "   4    |   100   |   0.256792   |   0.930469   |     -      |     -      |    1.21   \n",
            "   4    |   200   |   0.207629   |   0.934375   |     -      |     -      |    1.22   \n",
            "   4    |   300   |   0.227992   |   0.929219   |     -      |     -      |    1.22   \n",
            "   4    |   400   |   0.230604   |   0.931406   |     -      |     -      |    1.22   \n",
            "   4    |   500   |   0.220331   |   0.931562   |     -      |     -      |    1.23   \n",
            "   4    |   600   |   0.198729   |   0.940469   |     -      |     -      |    1.22   \n",
            "   4    |   700   |   0.200815   |   0.937813   |     -      |     -      |    1.23   \n",
            "   4    |   800   |   0.190350   |   0.942187   |     -      |     -      |    1.29   \n",
            "   4    |   859   |   0.183556   |   0.929290   |     -      |     -      |    0.81   \n",
            "-------------------------------------------------------------------------------------\n",
            "[Epoch 4/13]: train_on_sparse = False | train-loss = 0.214288 | train-acc = 0.933909 | val-loss = 0.192256 | val-acc = 0.941000 | time_elapsed = 11.52\n",
            " Epoch  |  Batch  |  Train Loss  |  Train Acc   |  Val Loss  |  Val Acc   |  Elapsed \n",
            "-------------------------------------------------------------------------------------\n",
            "   5    |   100   |   0.196593   |   0.955313   |     -      |     -      |    1.27   \n",
            "   5    |   200   |   0.177083   |   0.945469   |     -      |     -      |    1.23   \n",
            "   5    |   300   |   0.163985   |   0.947812   |     -      |     -      |    1.24   \n",
            "   5    |   400   |   0.160187   |   0.948750   |     -      |     -      |    1.23   \n",
            "   5    |   500   |   0.170688   |   0.947344   |     -      |     -      |    1.21   \n",
            "   5    |   600   |   0.146085   |   0.955469   |     -      |     -      |    1.21   \n",
            "   5    |   700   |   0.162212   |   0.950781   |     -      |     -      |    1.22   \n",
            "   5    |   800   |   0.161243   |   0.951875   |     -      |     -      |    1.23   \n",
            "   5    |   859   |   0.162963   |   0.938559   |     -      |     -      |    0.71   \n",
            "-------------------------------------------------------------------------------------\n",
            "[Epoch 5/13]: train_on_sparse = False | train-loss = 0.166891 | train-acc = 0.949127 | val-loss = 0.159801 | val-acc = 0.949200 | time_elapsed = 11.37\n",
            " Epoch  |  Batch  |  Train Loss  |  Train Acc   |  Val Loss  |  Val Acc   |  Elapsed \n",
            "-------------------------------------------------------------------------------------\n",
            "   6    |   100   |   0.145467   |   0.964375   |     -      |     -      |    1.53   \n",
            "   6    |   200   |   0.143831   |   0.956875   |     -      |     -      |    1.40   \n",
            "   6    |   300   |   0.140672   |   0.957812   |     -      |     -      |    1.39   \n",
            "   6    |   400   |   0.147101   |   0.957656   |     -      |     -      |    1.40   \n",
            "   6    |   500   |   0.133172   |   0.959219   |     -      |     -      |    1.37   \n",
            "   6    |   600   |   0.136238   |   0.955781   |     -      |     -      |    1.38   \n",
            "   6    |   700   |   0.131631   |   0.960000   |     -      |     -      |    1.37   \n",
            "   6    |   800   |   0.126052   |   0.962031   |     -      |     -      |    1.36   \n",
            "   6    |   859   |   0.134065   |   0.945710   |     -      |     -      |    0.81   \n",
            "-------------------------------------------------------------------------------------\n",
            "[Epoch 6/13]: train_on_sparse = True | train-loss = 0.137689 | train-acc = 0.957873 | val-loss = 0.135071 | val-acc = 0.955600 | time_elapsed = 12.83\n",
            " Epoch  |  Batch  |  Train Loss  |  Train Acc   |  Val Loss  |  Val Acc   |  Elapsed \n",
            "-------------------------------------------------------------------------------------\n",
            "   7    |   100   |   0.130094   |   0.967031   |     -      |     -      |    1.38   \n",
            "   7    |   200   |   0.125768   |   0.963281   |     -      |     -      |    1.36   \n",
            "   7    |   300   |   0.119688   |   0.963906   |     -      |     -      |    1.37   \n",
            "   7    |   400   |   0.116235   |   0.965000   |     -      |     -      |    1.47   \n",
            "   7    |   500   |   0.128228   |   0.961406   |     -      |     -      |    1.42   \n",
            "   7    |   600   |   0.120112   |   0.962969   |     -      |     -      |    1.38   \n",
            "   7    |   700   |   0.112631   |   0.964063   |     -      |     -      |    1.37   \n",
            "   7    |   800   |   0.111227   |   0.966719   |     -      |     -      |    1.37   \n",
            "   7    |   859   |   0.118860   |   0.952595   |     -      |     -      |    0.81   \n",
            "-------------------------------------------------------------------------------------\n",
            "[Epoch 7/13]: train_on_sparse = True | train-loss = 0.120333 | train-acc = 0.963073 | val-loss = 0.122175 | val-acc = 0.960600 | time_elapsed = 12.79\n",
            " Epoch  |  Batch  |  Train Loss  |  Train Acc   |  Val Loss  |  Val Acc   |  Elapsed \n",
            "-------------------------------------------------------------------------------------\n",
            "   8    |   100   |   0.112591   |   0.975625   |     -      |     -      |    1.44   \n",
            "   8    |   200   |   0.105478   |   0.968281   |     -      |     -      |    1.40   \n",
            "   8    |   300   |   0.108575   |   0.967500   |     -      |     -      |    1.37   \n",
            "   8    |   400   |   0.110781   |   0.966094   |     -      |     -      |    1.36   \n",
            "   8    |   500   |   0.112786   |   0.967031   |     -      |     -      |    1.34   \n",
            "   8    |   600   |   0.120634   |   0.964219   |     -      |     -      |    1.33   \n",
            "   8    |   700   |   0.100913   |   0.967656   |     -      |     -      |    1.34   \n",
            "   8    |   800   |   0.100440   |   0.967344   |     -      |     -      |    1.31   \n",
            "   8    |   859   |   0.105698   |   0.958951   |     -      |     -      |    0.79   \n",
            "-------------------------------------------------------------------------------------\n",
            "[Epoch 8/13]: train_on_sparse = True | train-loss = 0.108749 | train-acc = 0.966927 | val-loss = 0.108492 | val-acc = 0.964400 | time_elapsed = 12.51\n",
            " Epoch  |  Batch  |  Train Loss  |  Train Acc   |  Val Loss  |  Val Acc   |  Elapsed \n",
            "-------------------------------------------------------------------------------------\n",
            "   9    |   100   |   0.100440   |   0.980625   |     -      |     -      |    1.19   \n",
            "   9    |   200   |   0.113559   |   0.960781   |     -      |     -      |    1.14   \n",
            "   9    |   300   |   0.101433   |   0.968906   |     -      |     -      |    1.16   \n",
            "   9    |   400   |   0.097843   |   0.969531   |     -      |     -      |    1.17   \n",
            "   9    |   500   |   0.101692   |   0.968281   |     -      |     -      |    1.19   \n",
            "   9    |   600   |   0.099591   |   0.966719   |     -      |     -      |    1.22   \n",
            "   9    |   700   |   0.104542   |   0.969063   |     -      |     -      |    1.23   \n",
            "   9    |   800   |   0.102222   |   0.969219   |     -      |     -      |    1.16   \n",
            "   9    |   859   |   0.092514   |   0.958951   |     -      |     -      |    0.75   \n",
            "-------------------------------------------------------------------------------------\n",
            "[Epoch 9/13]: train_on_sparse = False | train-loss = 0.101923 | train-acc = 0.968018 | val-loss = 0.101081 | val-acc = 0.966200 | time_elapsed = 11.06\n",
            " Epoch  |  Batch  |  Train Loss  |  Train Acc   |  Val Loss  |  Val Acc   |  Elapsed \n",
            "-------------------------------------------------------------------------------------\n",
            "  10    |   100   |   0.100070   |   0.981250   |     -      |     -      |    1.21   \n",
            "  10    |   200   |   0.094117   |   0.970156   |     -      |     -      |    1.19   \n",
            "  10    |   300   |   0.093480   |   0.970469   |     -      |     -      |    1.18   \n",
            "  10    |   400   |   0.088100   |   0.972656   |     -      |     -      |    1.18   \n",
            "  10    |   500   |   0.104598   |   0.967187   |     -      |     -      |    1.17   \n",
            "  10    |   600   |   0.082643   |   0.971094   |     -      |     -      |    1.19   \n",
            "  10    |   700   |   0.082986   |   0.976719   |     -      |     -      |    1.20   \n",
            "  10    |   800   |   0.088211   |   0.973437   |     -      |     -      |    1.17   \n",
            "  10    |   859   |   0.079991   |   0.962129   |     -      |     -      |    0.71   \n",
            "-------------------------------------------------------------------------------------\n",
            "[Epoch 10/13]: train_on_sparse = False | train-loss = 0.090927 | train-acc = 0.971709 | val-loss = 0.094896 | val-acc = 0.967800 | time_elapsed = 11.01\n",
            " Epoch  |  Batch  |  Train Loss  |  Train Acc   |  Val Loss  |  Val Acc   |  Elapsed \n",
            "-------------------------------------------------------------------------------------\n",
            "  11    |   100   |   0.083819   |   0.983437   |     -      |     -      |    1.21   \n",
            "  11    |   200   |   0.094667   |   0.971094   |     -      |     -      |    1.22   \n",
            "  11    |   300   |   0.080356   |   0.974531   |     -      |     -      |    1.20   \n",
            "  11    |   400   |   0.091051   |   0.973750   |     -      |     -      |    1.15   \n",
            "  11    |   500   |   0.080526   |   0.975781   |     -      |     -      |    1.20   \n",
            "  11    |   600   |   0.092655   |   0.972344   |     -      |     -      |    1.15   \n",
            "  11    |   700   |   0.071103   |   0.977969   |     -      |     -      |    1.17   \n",
            "  11    |   800   |   0.077512   |   0.976406   |     -      |     -      |    1.14   \n",
            "  11    |   859   |   0.093631   |   0.961070   |     -      |     -      |    0.68   \n",
            "-------------------------------------------------------------------------------------\n",
            "[Epoch 11/13]: train_on_sparse = False | train-loss = 0.084588 | train-acc = 0.974236 | val-loss = 0.087539 | val-acc = 0.972000 | time_elapsed = 10.92\n",
            " Epoch  |  Batch  |  Train Loss  |  Train Acc   |  Val Loss  |  Val Acc   |  Elapsed \n",
            "-------------------------------------------------------------------------------------\n",
            "  12    |   100   |   0.088157   |   0.982656   |     -      |     -      |    1.22   \n",
            "  12    |   200   |   0.078579   |   0.976094   |     -      |     -      |    1.20   \n",
            "  12    |   300   |   0.080185   |   0.976250   |     -      |     -      |    1.21   \n",
            "  12    |   400   |   0.069662   |   0.979219   |     -      |     -      |    1.25   \n",
            "  12    |   500   |   0.070277   |   0.977812   |     -      |     -      |    1.19   \n",
            "  12    |   600   |   0.083032   |   0.973750   |     -      |     -      |    1.20   \n",
            "  12    |   700   |   0.077880   |   0.976406   |     -      |     -      |    1.15   \n",
            "  12    |   800   |   0.080506   |   0.973594   |     -      |     -      |    1.16   \n",
            "  12    |   859   |   0.069650   |   0.968220   |     -      |     -      |    0.74   \n",
            "-------------------------------------------------------------------------------------\n",
            "[Epoch 12/13]: train_on_sparse = False | train-loss = 0.077890 | train-acc = 0.975945 | val-loss = 0.084719 | val-acc = 0.972600 | time_elapsed = 11.14\n",
            " Epoch  |  Batch  |  Train Loss  |  Train Acc   |  Val Loss  |  Val Acc   |  Elapsed \n",
            "-------------------------------------------------------------------------------------\n",
            "  13    |   100   |   0.069097   |   0.988594   |     -      |     -      |    1.19   \n",
            "  13    |   200   |   0.075577   |   0.975313   |     -      |     -      |    1.14   \n",
            "  13    |   300   |   0.068704   |   0.979062   |     -      |     -      |    1.13   \n",
            "  13    |   400   |   0.076596   |   0.975781   |     -      |     -      |    1.16   \n",
            "  13    |   500   |   0.072296   |   0.978125   |     -      |     -      |    1.17   \n",
            "  13    |   600   |   0.075527   |   0.977031   |     -      |     -      |    1.14   \n",
            "  13    |   700   |   0.071746   |   0.978750   |     -      |     -      |    1.15   \n",
            "  13    |   800   |   0.073300   |   0.977656   |     -      |     -      |    1.19   \n",
            "  13    |   859   |   0.074478   |   0.966102   |     -      |     -      |    0.71   \n",
            "-------------------------------------------------------------------------------------\n",
            "[Epoch 13/13]: train_on_sparse = False | train-loss = 0.072935 | train-acc = 0.977491 | val-loss = 0.087239 | val-acc = 0.969600 | time_elapsed = 10.77\n"
          ],
          "name": "stdout"
        }
      ]
    },
    {
      "cell_type": "markdown",
      "metadata": {
        "id": "_4Dxns0ZsNAf"
      },
      "source": [
        "# IV/ Plot"
      ]
    },
    {
      "cell_type": "code",
      "metadata": {
        "id": "B-cZTdjp1HPN",
        "colab": {
          "base_uri": "https://localhost:8080/",
          "height": 295
        },
        "outputId": "7d1a37ff-d52b-4b18-c44f-82ba0b850299"
      },
      "source": [
        "plt.title('Training/Validation error')\n",
        "plt.ylabel('Cost')\n",
        "plt.xlabel('epoch')\n",
        "\n",
        "plt.plot(train_costs)\n",
        "plt.plot(val_costs)\n",
        "plt.legend(['train-loss', 'val-loss'], loc='upper right')\n",
        "plt.show()"
      ],
      "execution_count": 9,
      "outputs": [
        {
          "output_type": "display_data",
          "data": {
            "image/png": "[encoded data removed]",
            "text/plain": [
              "<Figure size 432x288 with 1 Axes>"
            ]
          },
          "metadata": {
            "tags": [],
            "needs_background": "light"
          }
        }
      ]
    },
    {
      "cell_type": "markdown",
      "metadata": {
        "id": "smfqa-9qXpOb"
      },
      "source": [
        "# V/ Dense Sparse Dense"
      ]
    },
    {
      "cell_type": "markdown",
      "metadata": {
        "id": "gJ4WRbGFXspS"
      },
      "source": [
        "## A) Dense"
      ]
    },
    {
      "cell_type": "code",
      "metadata": {
        "id": "wbAXa3V5W1fg",
        "colab": {
          "base_uri": "https://localhost:8080/",
          "height": 1000
        },
        "outputId": "ab063f53-6e18-4b76-c132-4e996ad847b7"
      },
      "source": [
        "plt.figure(figsize=(20, 20))\n",
        "\n",
        "img = Image.open(\"/content/dense1.png\")\n",
        "plt.imshow(img)"
      ],
      "execution_count": 10,
      "outputs": [
        {
          "output_type": "execute_result",
          "data": {
            "text/plain": [
              "<matplotlib.image.AxesImage at 0x7fcba1bf5290>"
            ]
          },
          "metadata": {
            "tags": []
          },
          "execution_count": 10
        },
        {
          "output_type": "display_data",
          "data": {
            "image/png": "[encoded data removed]",
            "text/plain": [
              "<Figure size 1440x1440 with 1 Axes>"
            ]
          },
          "metadata": {
            "tags": [],
            "needs_background": "light"
          }
        }
      ]
    },
    {
      "cell_type": "markdown",
      "metadata": {
        "id": "AxX9PjyKYdtR"
      },
      "source": [
        "## B) Sparse"
      ]
    },
    {
      "cell_type": "code",
      "metadata": {
        "id": "XnfoFTZ2X-9D",
        "colab": {
          "base_uri": "https://localhost:8080/",
          "height": 1000
        },
        "outputId": "b33a6d44-c2a3-4aa6-c544-7870b71e41bf"
      },
      "source": [
        "plt.figure(figsize=(20, 20))\n",
        "\n",
        "img = Image.open(\"/content/sparse.png\")\n",
        "plt.imshow(img)"
      ],
      "execution_count": 11,
      "outputs": [
        {
          "output_type": "execute_result",
          "data": {
            "text/plain": [
              "<matplotlib.image.AxesImage at 0x7fcba037a410>"
            ]
          },
          "metadata": {
            "tags": []
          },
          "execution_count": 11
        },
        {
          "output_type": "display_data",
          "data": {
            "image/png": "[encoded data removed]",
            "text/plain": [
              "<Figure size 1440x1440 with 1 Axes>"
            ]
          },
          "metadata": {
            "tags": [],
            "needs_background": "light"
          }
        }
      ]
    },
    {
      "cell_type": "markdown",
      "metadata": {
        "id": "0TwwE65NYfaP"
      },
      "source": [
        "## C) Dense"
      ]
    },
    {
      "cell_type": "code",
      "metadata": {
        "id": "L7kdKidwYdFJ",
        "colab": {
          "base_uri": "https://localhost:8080/",
          "height": 1000
        },
        "outputId": "927a4ccf-57f0-4212-a89d-331ec9d20418"
      },
      "source": [
        "plt.figure(figsize=(20, 20))\n",
        "\n",
        "img = Image.open(\"/content/dense2.png\")\n",
        "plt.imshow(img)"
      ],
      "execution_count": 12,
      "outputs": [
        {
          "output_type": "execute_result",
          "data": {
            "text/plain": [
              "<matplotlib.image.AxesImage at 0x7fcba0367a90>"
            ]
          },
          "metadata": {
            "tags": []
          },
          "execution_count": 12
        },
        {
          "output_type": "display_data",
          "data": {
            "image/png": "[encoded data removed]",
            "text/plain": [
              "<Figure size 1440x1440 with 1 Axes>"
            ]
          },
          "metadata": {
            "tags": [],
            "needs_background": "light"
          }
        }
      ]
    }
  ]
}
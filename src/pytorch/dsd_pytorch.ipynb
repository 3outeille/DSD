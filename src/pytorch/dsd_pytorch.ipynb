{
 "cells": [
  {
   "cell_type": "code",
   "execution_count": 1,
   "metadata": {
    "id": "IyJB0-Hixf-N"
   },
   "outputs": [],
   "source": [
    "from IPython.display import clear_output\n",
    "import matplotlib.pyplot as plt\n",
    "%matplotlib inline\n",
    "import numpy as np\n",
    "import shutil\n",
    "import time\n",
    "import torch\n",
    "import torch.optim as optim\n",
    "import torch.nn as nn\n",
    "from torch.utils.data import DataLoader, random_split\n",
    "from torchsummary import summary\n",
    "from torchvision import transforms, datasets"
   ]
  },
  {
   "cell_type": "code",
   "execution_count": 2,
   "metadata": {
    "id": "I4eV-35vz90j"
   },
   "outputs": [],
   "source": [
    "def plot_wb(model, ranges=None):\n",
    "  tmp = list(model.named_parameters())\n",
    "  layers = [(tmp[i], tmp[i+1]) for i in range(0, len(tmp), 2)]\n",
    "\n",
    "  for w, b in layers:\n",
    "    if (\"conv\" in w[0] or \"conv\" in b[0]) or (\"fc\" in w[0] or \"fc\" in b[0]):\n",
    "      \n",
    "      w_flatten = w[1].flatten().detach().cpu().numpy()\n",
    "      b_flatten = b[1].flatten().detach().cpu().numpy()\n",
    "\n",
    "      fig = plt.figure(figsize=(15,5))\n",
    "\n",
    "      fig.add_subplot(1,2,1)\n",
    "      plt.title(w[0])\n",
    "      plt.hist(w_flatten, bins=100, range=ranges);\n",
    "\n",
    "      fig.add_subplot(1,2,2)\n",
    "      plt.title(b[0])\n",
    "      plt.hist(b_flatten, bins=100, range=ranges);"
   ]
  },
  {
   "cell_type": "markdown",
   "metadata": {
    "id": "rTvoersKxz6h"
   },
   "source": [
    "# I/ Dataset"
   ]
  },
  {
   "cell_type": "code",
   "execution_count": 3,
   "metadata": {
    "id": "8fkBZulsx0ti"
   },
   "outputs": [],
   "source": [
    "def load_mnist(BATCH_SIZE=64):\n",
    "    transform = transforms.Compose([transforms.Resize((32,32)),\n",
    "                                    transforms.ToTensor(),\n",
    "                                    transforms.Normalize(mean=[0.5], std=[0.5])])\n",
    "            \n",
    "    train_dataset = datasets.MNIST('./data', train=True, download=True, transform=transform)\n",
    "    test_dataset = datasets.MNIST('./data', train=False, download=True, transform=transform)\n",
    "    \n",
    "    # Clear downloading message.\n",
    "    clear_output()\n",
    "    \n",
    "    # Split dataset into training set and validation set.\n",
    "    train_dataset, val_dataset = random_split(train_dataset, (55000, 5000))\n",
    "    \n",
    "    print(\"Image Shape: {}\".format(train_dataset[0][0].numpy().shape), end = '\\n\\n')\n",
    "    print(\"Training Set:   {} samples\".format(len(train_dataset)))\n",
    "    print(\"Validation Set:   {} samples\".format(len(val_dataset)))\n",
    "    print(\"Test Set:       {} samples\".format(len(test_dataset)))\n",
    "    \n",
    "    # Create iterator.\n",
    "    train_loader = DataLoader(train_dataset, batch_size=BATCH_SIZE, shuffle=True)\n",
    "    val_loader = DataLoader(val_dataset, batch_size=BATCH_SIZE, shuffle=True)\n",
    "    test_loader = DataLoader(test_dataset, batch_size=len(test_dataset), shuffle=True)\n",
    "    \n",
    "    # Delete the data/ folder.\n",
    "    shutil.rmtree('./data')\n",
    "    \n",
    "    return (train_loader, val_loader, test_loader)"
   ]
  },
  {
   "cell_type": "code",
   "execution_count": 4,
   "metadata": {
    "colab": {
     "base_uri": "https://localhost:8080/",
     "height": 727,
     "referenced_widgets": [
      "2ec7bd056ae14491af371b5cba1dccb0",
      "0d1de4bf9a4b47118626cecd8c9348a6",
      "920f58e1b3da43478983f5a586e600dc",
      "27c8b184e4a64d53bfeb0990fe94bb5a",
      "2e10cad817ef4bf78dad17faf56c96d4",
      "2645629a965e451fa3d045a46171f424",
      "9348dd6423db47c8a7f35c0b4a361e75",
      "1a936f85e8594ec79998915357fdf1f7",
      "1e3a6826063140b0a7a868ab20da53b5",
      "95c1741c3af64f1cadcf24f0ce7930fd",
      "bfc0c404cdd142fa8a541025206427b6",
      "2ab901439e90497398f44dc6e61a8aca",
      "89749026aa3f4ae0bcb64da46ef84e08",
      "a1bc052f6cdb4899b1997331bf5a4095",
      "c36f7c1748c64434ad25c0b206213efd",
      "4b83351badc54d53a4d8b39c78a6ae97",
      "63b794844d6441ffa4d79a118e0accf6",
      "bfa74eee3b664d09bb39d82161c2dcfd",
      "169b7a049f6c45e4b292d418e987662e",
      "200ca3887a7b448cb94b21b3ff49503e",
      "b507015afbc6402fb74d85665306f608",
      "86b6ebb7042e4944a4a3bf35dd1b3e30",
      "69f1686699b840b4b751eda76873bb4b",
      "ed3dd85b2d414ac6ae66bab9d56b755b",
      "91b820046b5141e58a621269a88b30c0"
     ]
    },
    "id": "mhKdF0CbzBGm",
    "outputId": "3cf62613-4855-4046-b99a-11303d77c5d1"
   },
   "outputs": [
    {
     "name": "stdout",
     "output_type": "stream",
     "text": [
      "Image Shape: (1, 32, 32)\n",
      "\n",
      "Training Set:   55000 samples\n",
      "Validation Set:   5000 samples\n",
      "Test Set:       10000 samples\n"
     ]
    }
   ],
   "source": [
    "train_loader, val_loader, test_loader = load_mnist()"
   ]
  },
  {
   "cell_type": "markdown",
   "metadata": {
    "id": "YFwuMsLBx1w-"
   },
   "source": [
    "# II/ Model"
   ]
  },
  {
   "cell_type": "code",
   "execution_count": 7,
   "metadata": {
    "id": "oM9oqg0Ux4ie"
   },
   "outputs": [],
   "source": [
    "class NN(nn.Module):\n",
    "    \n",
    "    def __init__(self):\n",
    "        super(NN, self).__init__()\n",
    "        \n",
    "        self.conv1 = nn.Conv2d(in_channels=1, out_channels=6, kernel_size=(5,5))\n",
    "        self.bn1 = nn.BatchNorm2d(6)\n",
    "        self.dp1 = nn.Dropout2d(0.1)\n",
    "        self.pool1 = nn.AvgPool2d(kernel_size=(2,2), stride=2)\n",
    "\n",
    "        self.conv2 = nn.Conv2d(in_channels=6, out_channels=16, kernel_size=(5,5))\n",
    "        self.bn2 = nn.BatchNorm2d(16)\n",
    "        self.dp2 = nn.Dropout2d(0.1)\n",
    "        self.pool2 = nn.AvgPool2d(kernel_size=(2,2), stride=2)\n",
    "\n",
    "        self.fc1 = nn.Linear(in_features=16*5*5, out_features=120)\n",
    "        self.bn3 = nn.BatchNorm1d(120)\n",
    "        self.dp3 = nn.Dropout(0.1)\n",
    "\n",
    "        self.fc2 = nn.Linear(in_features=120, out_features=84)\n",
    "        self.bn4 = nn.BatchNorm1d(84)\n",
    "        self.dp4 = nn.Dropout(0.1)\n",
    "\n",
    "        self.fc3 = nn.Linear(in_features=84, out_features=10)  \n",
    "        \n",
    "        \n",
    "    def forward(self, x):\n",
    "        x = self.conv1(x)\n",
    "        x = torch.relu(x)\n",
    "        x = self.bn1(x)\n",
    "        x = self.dp1(x)\n",
    "        x = self.pool1(x)\n",
    "\n",
    "        x = self.conv2(x)\n",
    "        x = torch.relu(x)\n",
    "        x = self.bn2(x)\n",
    "        x = self.dp2(x)\n",
    "        x = self.pool2(x)\n",
    "\n",
    "        x = x.view(-1, 16*5*5)\n",
    "        x = self.fc1(x)\n",
    "        x = torch.relu(x)\n",
    "        x = self.bn3(x)\n",
    "        x = self.dp3(x)\n",
    "\n",
    "        x = self.fc2(x)\n",
    "        x = torch.relu(x)\n",
    "        x = self.bn4(x)\n",
    "        x = self.dp4(x)\n",
    "\n",
    "        x = self.fc3(x)\n",
    "    \n",
    "        return x"
   ]
  },
  {
   "cell_type": "code",
   "execution_count": 8,
   "metadata": {
    "colab": {
     "base_uri": "https://localhost:8080/"
    },
    "id": "WfccvKa2zvCb",
    "outputId": "c8e6c5c2-a43d-4839-9225-df185da7de78"
   },
   "outputs": [
    {
     "name": "stdout",
     "output_type": "stream",
     "text": [
      "----------------------------------------------------------------\n",
      "        Layer (type)               Output Shape         Param #\n",
      "================================================================\n",
      "            Conv2d-1            [-1, 6, 28, 28]             156\n",
      "       BatchNorm2d-2            [-1, 6, 28, 28]              12\n",
      "         Dropout2d-3            [-1, 6, 28, 28]               0\n",
      "         AvgPool2d-4            [-1, 6, 14, 14]               0\n",
      "            Conv2d-5           [-1, 16, 10, 10]           2,416\n",
      "       BatchNorm2d-6           [-1, 16, 10, 10]              32\n",
      "         Dropout2d-7           [-1, 16, 10, 10]               0\n",
      "         AvgPool2d-8             [-1, 16, 5, 5]               0\n",
      "            Linear-9                  [-1, 120]          48,120\n",
      "      BatchNorm1d-10                  [-1, 120]             240\n",
      "          Dropout-11                  [-1, 120]               0\n",
      "           Linear-12                   [-1, 84]          10,164\n",
      "      BatchNorm1d-13                   [-1, 84]             168\n",
      "          Dropout-14                   [-1, 84]               0\n",
      "           Linear-15                   [-1, 10]             850\n",
      "================================================================\n",
      "Total params: 62,158\n",
      "Trainable params: 62,158\n",
      "Non-trainable params: 0\n",
      "----------------------------------------------------------------\n",
      "Input size (MB): 0.00\n",
      "Forward/backward pass size (MB): 0.16\n",
      "Params size (MB): 0.24\n",
      "Estimated Total Size (MB): 0.40\n",
      "----------------------------------------------------------------\n"
     ]
    }
   ],
   "source": [
    "model = NN()\n",
    "device = torch.device(\"cuda\" if torch.cuda.is_available() else \"cpu\")\n",
    "model.to(device)\n",
    "summary(model, (1, 32, 32))"
   ]
  },
  {
   "cell_type": "markdown",
   "metadata": {
    "id": "cN2P_xF0x5y-"
   },
   "source": [
    "# III/ Train"
   ]
  },
  {
   "cell_type": "code",
   "execution_count": 9,
   "metadata": {
    "colab": {
     "base_uri": "https://localhost:8080/",
     "height": 1000
    },
    "id": "AjAhbTRC0AD0",
    "outputId": "82ee0560-d7c3-4859-e6e0-c4af94d496c1"
   },
   "outputs": [
    {
     "data": {
      "image/png": "[encoded data removed]",
      "text/plain": [
       "<Figure size 1080x360 with 2 Axes>"
      ]
     },
     "metadata": {
      "needs_background": "light",
      "tags": []
     },
     "output_type": "display_data"
    },
    {
     "data": {
      "image/png": "[encoded data removed]",
      "text/plain": [
       "<Figure size 1080x360 with 2 Axes>"
      ]
     },
     "metadata": {
      "needs_background": "light",
      "tags": []
     },
     "output_type": "display_data"
    },
    {
     "data": {
      "image/png": "[encoded data removed]",
      "text/plain": [
       "<Figure size 1080x360 with 2 Axes>"
      ]
     },
     "metadata": {
      "needs_background": "light",
      "tags": []
     },
     "output_type": "display_data"
    },
    {
     "data": {
      "image/png": "[encoded data removed]",
      "text/plain": [
       "<Figure size 1080x360 with 2 Axes>"
      ]
     },
     "metadata": {
      "needs_background": "light",
      "tags": []
     },
     "output_type": "display_data"
    },
    {
     "data": {
      "image/png": "[encoded data removed]",
      "text/plain": [
       "<Figure size 1080x360 with 2 Axes>"
      ]
     },
     "metadata": {
      "needs_background": "light",
      "tags": []
     },
     "output_type": "display_data"
    }
   ],
   "source": [
    "plot_wb(model)"
   ]
  },
  {
   "cell_type": "code",
   "execution_count": 10,
   "metadata": {
    "id": "x5YPPVUsx73S"
   },
   "outputs": [],
   "source": [
    "criterion = nn.CrossEntropyLoss()\n",
    "optimizer = optim.Adam(model.parameters(), lr=0.001)"
   ]
  },
  {
   "cell_type": "code",
   "execution_count": 11,
   "metadata": {
    "id": "T3zgYuDhz1t7"
   },
   "outputs": [],
   "source": [
    "def train(EPOCHS, NB_TRAIN_EXAMPLES, NB_VAL_EXAMPLES):\n",
    "    train_costs, val_costs = [], []\n",
    "\n",
    "    #Training phase.\n",
    "    for epoch in range(EPOCHS):\n",
    "\n",
    "        print(f\"{'Epoch':^7} | {'Batch':^7} | {'Train Loss':^12} | {'Train Acc':^12} | {'Val Loss':^10} | {'Val Acc':^10} | {'Elapsed':^9}\")\n",
    "        print(\"-\"*85)\n",
    "\n",
    "        # Measure the elapsed time of each epoch\n",
    "        t0_epoch, t0_batch = time.time(), time.time()\n",
    "\n",
    "        #------------------------------------------------\n",
    "        #                 TRAINING\n",
    "        #------------------------------------------------\n",
    "\n",
    "        train_loss, correct_train = 0, 0\n",
    "        batch_loss, correct_batch, batch_counts = 0, 0, 0\n",
    "        \n",
    "        if device == \"cuda\":\n",
    "          model.train().cuda()\n",
    "        \n",
    "        for step, (inputs, labels) in enumerate(train_loader):\n",
    "            \n",
    "            # Load data to GPU.\n",
    "            inputs, labels = inputs.to(device), labels.to(device)\n",
    "\n",
    "            # Zero the parameter gradients.\n",
    "            optimizer.zero_grad()\n",
    "            \n",
    "            # Forward pass.\n",
    "            prediction = model(inputs)\n",
    "            \n",
    "            # Compute the loss.\n",
    "            loss = criterion(prediction, labels)\n",
    "            \n",
    "            # Backward pass.\n",
    "            loss.backward()\n",
    "            \n",
    "            # Optimize.\n",
    "            optimizer.step()\n",
    "            \n",
    "            # Compute training accuracy.\n",
    "            _, predicted = torch.max(prediction.data, 1)\n",
    "            correct_train += (predicted == labels).sum().item()\n",
    "            correct_batch += (predicted == labels).sum().item()\n",
    "            \n",
    "            # Compute batch loss.\n",
    "            batch_loss += (loss.data.item() * inputs.shape[0])\n",
    "            train_loss += (loss.data.item() * inputs.shape[0])\n",
    "\n",
    "            # Print the loss values and time elapsed for every 20 batches\n",
    "            if (step % 100 == 0 and step != 0) or (step == len(train_loader) - 1):\n",
    "                \n",
    "                time_elapsed = time.time() - t0_batch\n",
    "\n",
    "                print(f\"{epoch + 1:^7} | {step:^7} | {batch_loss / batch_counts:^12.6f} | {correct_batch / batch_counts:^12.6f} | {'-':^10} | {'-':^10} |  {time_elapsed:^9.2f}\")\n",
    "                batch_loss, correct_batch, batch_counts = 0, 0, 0\n",
    "                t0_batch = time.time()\n",
    "\n",
    "            batch_counts += inputs.shape[0]\n",
    "\n",
    "        train_loss /= NB_TRAIN_EXAMPLES\n",
    "        train_costs.append(train_loss)\n",
    "        train_acc =  correct_train / NB_TRAIN_EXAMPLES\n",
    "\n",
    "        print(\"-\"*85)\n",
    "\n",
    "        #------------------------------------------------\n",
    "        #                 VALIDATION\n",
    "        #------------------------------------------------\n",
    "\n",
    "        val_loss = 0\n",
    "        correct_val = 0\n",
    "        \n",
    "        if device == \"cuda\":\n",
    "          model.eval().cuda()\n",
    "        \n",
    "        with torch.no_grad():\n",
    "            for inputs, labels in val_loader:\n",
    "                # Load data to GPU.\n",
    "                inputs, labels = inputs.to(device), labels.to(device)\n",
    "\n",
    "                # Forward pass.\n",
    "                prediction = model(inputs)\n",
    "\n",
    "                # Compute the loss.\n",
    "                loss = criterion(prediction, labels)\n",
    "\n",
    "                # Compute training accuracy.\n",
    "                _, predicted = torch.max(prediction.data, 1)\n",
    "                correct_val += (predicted == labels).sum().item()\n",
    "\n",
    "                # Compute batch loss.\n",
    "                val_loss += (loss.data.item() * inputs.shape[0])\n",
    "\n",
    "            val_loss /= NB_VAL_EXAMPLES\n",
    "            val_costs.append(val_loss)\n",
    "            val_acc =  correct_val / NB_VAL_EXAMPLES\n",
    "\n",
    "        time_elapsed = time.time() - t0_epoch\n",
    "        # print(f\"{epoch + 1:^7} | {'-':^7} | {train_loss:^12.6f} | {train_acc:^12.6f} | {val_loss:^10.6f} | {val_acc:^12.6f} | {time_elapsed:^9.2f}\")\n",
    "        # print(\"-\"*85)\n",
    "\n",
    "        info = \"[Epoch {}/{}]: train-loss = {:0.6f} | train-acc = {:0.6f} | val-loss = {:0.6f} | val-acc = {:0.6f} | time_elapsed = {:0.2f}\"\n",
    "        print(info.format(epoch+1, EPOCHS, train_loss, train_acc, val_loss, val_acc, time_elapsed))\n",
    "                                                                \n",
    "    # torch.save(model.state_dict(), 'nn_model')  \n",
    "    return train_costs, val_costs"
   ]
  },
  {
   "cell_type": "code",
   "execution_count": 12,
   "metadata": {
    "colab": {
     "base_uri": "https://localhost:8080/"
    },
    "id": "o90Zmmj10Qdq",
    "outputId": "9bcfbac1-e9bf-4e15-f0fa-5949aa3f65e8"
   },
   "outputs": [
    {
     "name": "stdout",
     "output_type": "stream",
     "text": [
      " Epoch  |  Batch  |  Train Loss  |  Train Acc   |  Val Loss  |  Val Acc   |  Elapsed \n",
      "-------------------------------------------------------------------------------------\n",
      "   1    |   100   |   0.677662   |   0.832500   |     -      |     -      |    2.40   \n",
      "   1    |   200   |   0.210222   |   0.945000   |     -      |     -      |    2.28   \n",
      "   1    |   300   |   0.169764   |   0.949844   |     -      |     -      |    2.27   \n",
      "   1    |   400   |   0.139689   |   0.958906   |     -      |     -      |    2.19   \n",
      "   1    |   500   |   0.112016   |   0.969063   |     -      |     -      |    2.25   \n",
      "   1    |   600   |   0.114198   |   0.964844   |     -      |     -      |    2.28   \n",
      "   1    |   700   |   0.097772   |   0.971562   |     -      |     -      |    2.29   \n",
      "   1    |   800   |   0.107316   |   0.967812   |     -      |     -      |    2.24   \n",
      "   1    |   859   |   0.094468   |   0.957097   |     -      |     -      |    1.30   \n",
      "-------------------------------------------------------------------------------------\n",
      "[Epoch 1/5]: train-loss = 0.196000 | train-acc = 0.945364 | val-loss = 0.102806 | val-acc = 0.970000 | time_elapsed = 20.92\n",
      " Epoch  |  Batch  |  Train Loss  |  Train Acc   |  Val Loss  |  Val Acc   |  Elapsed \n",
      "-------------------------------------------------------------------------------------\n",
      "   2    |   100   |   0.079469   |   0.984219   |     -      |     -      |    2.24   \n",
      "   2    |   200   |   0.085698   |   0.973281   |     -      |     -      |    2.26   \n",
      "   2    |   300   |   0.069112   |   0.977656   |     -      |     -      |    2.26   \n",
      "   2    |   400   |   0.082593   |   0.975156   |     -      |     -      |    2.32   \n",
      "   2    |   500   |   0.083166   |   0.971719   |     -      |     -      |    2.24   \n",
      "   2    |   600   |   0.079977   |   0.977031   |     -      |     -      |    2.26   \n",
      "   2    |   700   |   0.071430   |   0.977656   |     -      |     -      |    2.26   \n",
      "   2    |   800   |   0.060667   |   0.980781   |     -      |     -      |    2.26   \n",
      "   2    |   859   |   0.059134   |   0.971663   |     -      |     -      |    1.35   \n",
      "-------------------------------------------------------------------------------------\n",
      "[Epoch 2/5]: train-loss = 0.075287 | train-acc = 0.976382 | val-loss = 0.085134 | val-acc = 0.972800 | time_elapsed = 20.85\n",
      " Epoch  |  Batch  |  Train Loss  |  Train Acc   |  Val Loss  |  Val Acc   |  Elapsed \n",
      "-------------------------------------------------------------------------------------\n",
      "   3    |   100   |   0.067656   |   0.988750   |     -      |     -      |    2.27   \n",
      "   3    |   200   |   0.063402   |   0.980781   |     -      |     -      |    2.28   \n",
      "   3    |   300   |   0.052546   |   0.983437   |     -      |     -      |    2.31   \n",
      "   3    |   400   |   0.056970   |   0.980781   |     -      |     -      |    2.26   \n",
      "   3    |   500   |   0.062184   |   0.979844   |     -      |     -      |    2.24   \n",
      "   3    |   600   |   0.053506   |   0.982812   |     -      |     -      |    2.23   \n",
      "   3    |   700   |   0.059369   |   0.980781   |     -      |     -      |    2.16   \n",
      "   3    |   800   |   0.056337   |   0.980469   |     -      |     -      |    2.23   \n",
      "   3    |   859   |   0.069859   |   0.965307   |     -      |     -      |    1.33   \n",
      "-------------------------------------------------------------------------------------\n",
      "[Epoch 3/5]: train-loss = 0.059716 | train-acc = 0.980618 | val-loss = 0.070218 | val-acc = 0.981600 | time_elapsed = 20.73\n",
      " Epoch  |  Batch  |  Train Loss  |  Train Acc   |  Val Loss  |  Val Acc   |  Elapsed \n",
      "-------------------------------------------------------------------------------------\n",
      "   4    |   100   |   0.042597   |   0.996875   |     -      |     -      |    2.29   \n",
      "   4    |   200   |   0.041879   |   0.986719   |     -      |     -      |    2.26   \n",
      "   4    |   300   |   0.043386   |   0.986406   |     -      |     -      |    2.22   \n",
      "   4    |   400   |   0.059282   |   0.982031   |     -      |     -      |    2.23   \n",
      "   4    |   500   |   0.054004   |   0.982500   |     -      |     -      |    2.20   \n",
      "   4    |   600   |   0.057863   |   0.981250   |     -      |     -      |    2.24   \n",
      "   4    |   700   |   0.054569   |   0.982812   |     -      |     -      |    2.28   \n",
      "   4    |   800   |   0.053577   |   0.983594   |     -      |     -      |    2.26   \n",
      "   4    |   859   |   0.055324   |   0.972458   |     -      |     -      |    1.38   \n",
      "-------------------------------------------------------------------------------------\n",
      "[Epoch 4/5]: train-loss = 0.051176 | train-acc = 0.983964 | val-loss = 0.061968 | val-acc = 0.982400 | time_elapsed = 20.79\n",
      " Epoch  |  Batch  |  Train Loss  |  Train Acc   |  Val Loss  |  Val Acc   |  Elapsed \n",
      "-------------------------------------------------------------------------------------\n",
      "   5    |   100   |   0.045821   |   0.996719   |     -      |     -      |    2.22   \n",
      "   5    |   200   |   0.048842   |   0.986406   |     -      |     -      |    2.25   \n",
      "   5    |   300   |   0.043230   |   0.986563   |     -      |     -      |    2.23   \n",
      "   5    |   400   |   0.046889   |   0.986406   |     -      |     -      |    2.18   \n",
      "   5    |   500   |   0.039611   |   0.987969   |     -      |     -      |    2.21   \n",
      "   5    |   600   |   0.046900   |   0.984531   |     -      |     -      |    2.21   \n",
      "   5    |   700   |   0.037486   |   0.988594   |     -      |     -      |    2.26   \n",
      "   5    |   800   |   0.047189   |   0.984844   |     -      |     -      |    2.23   \n",
      "   5    |   859   |   0.053688   |   0.973517   |     -      |     -      |    1.29   \n",
      "-------------------------------------------------------------------------------------\n",
      "[Epoch 5/5]: train-loss = 0.045108 | train-acc = 0.986345 | val-loss = 0.060883 | val-acc = 0.983000 | time_elapsed = 20.44\n"
     ]
    }
   ],
   "source": [
    "EPOCHS = 5\n",
    "NB_TRAIN_EXAMPLES = len(train_loader.dataset)\n",
    "NB_VAL_EXAMPLES = len(val_loader.dataset)\n",
    "\n",
    "train_costs, val_costs = train(EPOCHS, NB_TRAIN_EXAMPLES, NB_VAL_EXAMPLES)"
   ]
  },
  {
   "cell_type": "code",
   "execution_count": 13,
   "metadata": {
    "colab": {
     "base_uri": "https://localhost:8080/",
     "height": 1000
    },
    "id": "oBtmqkaVzZ61",
    "outputId": "65cf4272-a77b-4d54-c487-39065a84dee5"
   },
   "outputs": [
    {
     "data": {
      "image/png": "[encoded data removed]",
      "text/plain": [
       "<Figure size 1080x360 with 2 Axes>"
      ]
     },
     "metadata": {
      "needs_background": "light",
      "tags": []
     },
     "output_type": "display_data"
    },
    {
     "data": {
      "image/png": "[encoded data removed]",
      "text/plain": [
       "<Figure size 1080x360 with 2 Axes>"
      ]
     },
     "metadata": {
      "needs_background": "light",
      "tags": []
     },
     "output_type": "display_data"
    },
    {
     "data": {
      "image/png": "[encoded data removed]",
      "text/plain": [
       "<Figure size 1080x360 with 2 Axes>"
      ]
     },
     "metadata": {
      "needs_background": "light",
      "tags": []
     },
     "output_type": "display_data"
    },
    {
     "data": {
      "image/png": "[encoded data removed]",
      "text/plain": [
       "<Figure size 1080x360 with 2 Axes>"
      ]
     },
     "metadata": {
      "needs_background": "light",
      "tags": []
     },
     "output_type": "display_data"
    },
    {
     "data": {
      "image/png": "[encoded data removed]",
      "text/plain": [
       "<Figure size 1080x360 with 2 Axes>"
      ]
     },
     "metadata": {
      "needs_background": "light",
      "tags": []
     },
     "output_type": "display_data"
    }
   ],
   "source": [
    "plot_wb(model)"
   ]
  },
  {
   "cell_type": "markdown",
   "metadata": {
    "id": "_4Dxns0ZsNAf"
   },
   "source": [
    "# IV/ Plot"
   ]
  },
  {
   "cell_type": "code",
   "execution_count": 14,
   "metadata": {
    "colab": {
     "base_uri": "https://localhost:8080/",
     "height": 295
    },
    "id": "B-cZTdjp1HPN",
    "outputId": "95211189-c0fb-47fe-af32-8a6031cc6ea4"
   },
   "outputs": [
    {
     "data": {
      "image/png": "[encoded data removed]",
      "text/plain": [
       "<Figure size 432x288 with 1 Axes>"
      ]
     },
     "metadata": {
      "needs_background": "light",
      "tags": []
     },
     "output_type": "display_data"
    }
   ],
   "source": [
    "plt.title('Training/Validation error')\n",
    "plt.ylabel('Cost')\n",
    "plt.xlabel('epoch')\n",
    "\n",
    "plt.plot(train_costs)\n",
    "plt.plot(val_costs)\n",
    "plt.legend(['train-loss', 'val-loss'], loc='upper right')\n",
    "plt.show()"
   ]
  }
 ],
 "metadata": {
  "accelerator": "GPU",
  "colab": {
   "collapsed_sections": [],
   "name": "dsd-pytorch.ipynb",
   "provenance": []
  },
  "kernelspec": {
   "display_name": "Python 3",
   "language": "python",
   "name": "python3"
  },
  "language_info": {
   "codemirror_mode": {
    "name": "ipython",
    "version": 3
   },
   "file_extension": ".py",
   "mimetype": "text/x-python",
   "name": "python",
   "nbconvert_exporter": "python",
   "pygments_lexer": "ipython3",
   "version": "3.6.9"
  },
  "widgets": {
   "application/vnd.jupyter.widget-state+json": {
    "0d1de4bf9a4b47118626cecd8c9348a6": {
     "model_module": "@jupyter-widgets/base",
     "model_name": "LayoutModel",
     "state": {
      "_model_module": "@jupyter-widgets/base",
      "_model_module_version": "1.2.0",
      "_model_name": "LayoutModel",
      "_view_count": null,
      "_view_module": "@jupyter-widgets/base",
      "_view_module_version": "1.2.0",
      "_view_name": "LayoutView",
      "align_content": null,
      "align_items": null,
      "align_self": null,
      "border": null,
      "bottom": null,
      "display": null,
      "flex": null,
      "flex_flow": null,
      "grid_area": null,
      "grid_auto_columns": null,
      "grid_auto_flow": null,
      "grid_auto_rows": null,
      "grid_column": null,
      "grid_gap": null,
      "grid_row": null,
      "grid_template_areas": null,
      "grid_template_columns": null,
      "grid_template_rows": null,
      "height": null,
      "justify_content": null,
      "justify_items": null,
      "left": null,
      "margin": null,
      "max_height": null,
      "max_width": null,
      "min_height": null,
      "min_width": null,
      "object_fit": null,
      "object_position": null,
      "order": null,
      "overflow": null,
      "overflow_x": null,
      "overflow_y": null,
      "padding": null,
      "right": null,
      "top": null,
      "visibility": null,
      "width": null
     }
    },
    "169b7a049f6c45e4b292d418e987662e": {
     "model_module": "@jupyter-widgets/controls",
     "model_name": "FloatProgressModel",
     "state": {
      "_dom_classes": [],
      "_model_module": "@jupyter-widgets/controls",
      "_model_module_version": "1.5.0",
      "_model_name": "FloatProgressModel",
      "_view_count": null,
      "_view_module": "@jupyter-widgets/controls",
      "_view_module_version": "1.5.0",
      "_view_name": "ProgressView",
      "bar_style": "success",
      "description": "",
      "description_tooltip": null,
      "layout": "IPY_MODEL_86b6ebb7042e4944a4a3bf35dd1b3e30",
      "max": 1648877,
      "min": 0,
      "orientation": "horizontal",
      "style": "IPY_MODEL_b507015afbc6402fb74d85665306f608",
      "value": 1648877
     }
    },
    "1a936f85e8594ec79998915357fdf1f7": {
     "model_module": "@jupyter-widgets/base",
     "model_name": "LayoutModel",
     "state": {
      "_model_module": "@jupyter-widgets/base",
      "_model_module_version": "1.2.0",
      "_model_name": "LayoutModel",
      "_view_count": null,
      "_view_module": "@jupyter-widgets/base",
      "_view_module_version": "1.2.0",
      "_view_name": "LayoutView",
      "align_content": null,
      "align_items": null,
      "align_self": null,
      "border": null,
      "bottom": null,
      "display": null,
      "flex": null,
      "flex_flow": null,
      "grid_area": null,
      "grid_auto_columns": null,
      "grid_auto_flow": null,
      "grid_auto_rows": null,
      "grid_column": null,
      "grid_gap": null,
      "grid_row": null,
      "grid_template_areas": null,
      "grid_template_columns": null,
      "grid_template_rows": null,
      "height": null,
      "justify_content": null,
      "justify_items": null,
      "left": null,
      "margin": null,
      "max_height": null,
      "max_width": null,
      "min_height": null,
      "min_width": null,
      "object_fit": null,
      "object_position": null,
      "order": null,
      "overflow": null,
      "overflow_x": null,
      "overflow_y": null,
      "padding": null,
      "right": null,
      "top": null,
      "visibility": null,
      "width": null
     }
    },
    "1e3a6826063140b0a7a868ab20da53b5": {
     "model_module": "@jupyter-widgets/controls",
     "model_name": "HBoxModel",
     "state": {
      "_dom_classes": [],
      "_model_module": "@jupyter-widgets/controls",
      "_model_module_version": "1.5.0",
      "_model_name": "HBoxModel",
      "_view_count": null,
      "_view_module": "@jupyter-widgets/controls",
      "_view_module_version": "1.5.0",
      "_view_name": "HBoxView",
      "box_style": "",
      "children": [
       "IPY_MODEL_bfc0c404cdd142fa8a541025206427b6",
       "IPY_MODEL_2ab901439e90497398f44dc6e61a8aca"
      ],
      "layout": "IPY_MODEL_95c1741c3af64f1cadcf24f0ce7930fd"
     }
    },
    "200ca3887a7b448cb94b21b3ff49503e": {
     "model_module": "@jupyter-widgets/controls",
     "model_name": "HTMLModel",
     "state": {
      "_dom_classes": [],
      "_model_module": "@jupyter-widgets/controls",
      "_model_module_version": "1.5.0",
      "_model_name": "HTMLModel",
      "_view_count": null,
      "_view_module": "@jupyter-widgets/controls",
      "_view_module_version": "1.5.0",
      "_view_name": "HTMLView",
      "description": "",
      "description_tooltip": null,
      "layout": "IPY_MODEL_ed3dd85b2d414ac6ae66bab9d56b755b",
      "placeholder": "​",
      "style": "IPY_MODEL_69f1686699b840b4b751eda76873bb4b",
      "value": " 1649664/? [00:03&lt;00:00, 436212.81it/s]"
     }
    },
    "2645629a965e451fa3d045a46171f424": {
     "model_module": "@jupyter-widgets/base",
     "model_name": "LayoutModel",
     "state": {
      "_model_module": "@jupyter-widgets/base",
      "_model_module_version": "1.2.0",
      "_model_name": "LayoutModel",
      "_view_count": null,
      "_view_module": "@jupyter-widgets/base",
      "_view_module_version": "1.2.0",
      "_view_name": "LayoutView",
      "align_content": null,
      "align_items": null,
      "align_self": null,
      "border": null,
      "bottom": null,
      "display": null,
      "flex": null,
      "flex_flow": null,
      "grid_area": null,
      "grid_auto_columns": null,
      "grid_auto_flow": null,
      "grid_auto_rows": null,
      "grid_column": null,
      "grid_gap": null,
      "grid_row": null,
      "grid_template_areas": null,
      "grid_template_columns": null,
      "grid_template_rows": null,
      "height": null,
      "justify_content": null,
      "justify_items": null,
      "left": null,
      "margin": null,
      "max_height": null,
      "max_width": null,
      "min_height": null,
      "min_width": null,
      "object_fit": null,
      "object_position": null,
      "order": null,
      "overflow": null,
      "overflow_x": null,
      "overflow_y": null,
      "padding": null,
      "right": null,
      "top": null,
      "visibility": null,
      "width": null
     }
    },
    "27c8b184e4a64d53bfeb0990fe94bb5a": {
     "model_module": "@jupyter-widgets/controls",
     "model_name": "HTMLModel",
     "state": {
      "_dom_classes": [],
      "_model_module": "@jupyter-widgets/controls",
      "_model_module_version": "1.5.0",
      "_model_name": "HTMLModel",
      "_view_count": null,
      "_view_module": "@jupyter-widgets/controls",
      "_view_module_version": "1.5.0",
      "_view_name": "HTMLView",
      "description": "",
      "description_tooltip": null,
      "layout": "IPY_MODEL_1a936f85e8594ec79998915357fdf1f7",
      "placeholder": "​",
      "style": "IPY_MODEL_9348dd6423db47c8a7f35c0b4a361e75",
      "value": " 9913344/? [01:06&lt;00:00, 148707.47it/s]"
     }
    },
    "2ab901439e90497398f44dc6e61a8aca": {
     "model_module": "@jupyter-widgets/controls",
     "model_name": "HTMLModel",
     "state": {
      "_dom_classes": [],
      "_model_module": "@jupyter-widgets/controls",
      "_model_module_version": "1.5.0",
      "_model_name": "HTMLModel",
      "_view_count": null,
      "_view_module": "@jupyter-widgets/controls",
      "_view_module_version": "1.5.0",
      "_view_name": "HTMLView",
      "description": "",
      "description_tooltip": null,
      "layout": "IPY_MODEL_4b83351badc54d53a4d8b39c78a6ae97",
      "placeholder": "​",
      "style": "IPY_MODEL_c36f7c1748c64434ad25c0b206213efd",
      "value": " 29696/? [01:02&lt;00:00, 476.32it/s]"
     }
    },
    "2e10cad817ef4bf78dad17faf56c96d4": {
     "model_module": "@jupyter-widgets/controls",
     "model_name": "ProgressStyleModel",
     "state": {
      "_model_module": "@jupyter-widgets/controls",
      "_model_module_version": "1.5.0",
      "_model_name": "ProgressStyleModel",
      "_view_count": null,
      "_view_module": "@jupyter-widgets/base",
      "_view_module_version": "1.2.0",
      "_view_name": "StyleView",
      "bar_color": null,
      "description_width": "initial"
     }
    },
    "2ec7bd056ae14491af371b5cba1dccb0": {
     "model_module": "@jupyter-widgets/controls",
     "model_name": "HBoxModel",
     "state": {
      "_dom_classes": [],
      "_model_module": "@jupyter-widgets/controls",
      "_model_module_version": "1.5.0",
      "_model_name": "HBoxModel",
      "_view_count": null,
      "_view_module": "@jupyter-widgets/controls",
      "_view_module_version": "1.5.0",
      "_view_name": "HBoxView",
      "box_style": "",
      "children": [
       "IPY_MODEL_920f58e1b3da43478983f5a586e600dc",
       "IPY_MODEL_27c8b184e4a64d53bfeb0990fe94bb5a"
      ],
      "layout": "IPY_MODEL_0d1de4bf9a4b47118626cecd8c9348a6"
     }
    },
    "4b83351badc54d53a4d8b39c78a6ae97": {
     "model_module": "@jupyter-widgets/base",
     "model_name": "LayoutModel",
     "state": {
      "_model_module": "@jupyter-widgets/base",
      "_model_module_version": "1.2.0",
      "_model_name": "LayoutModel",
      "_view_count": null,
      "_view_module": "@jupyter-widgets/base",
      "_view_module_version": "1.2.0",
      "_view_name": "LayoutView",
      "align_content": null,
      "align_items": null,
      "align_self": null,
      "border": null,
      "bottom": null,
      "display": null,
      "flex": null,
      "flex_flow": null,
      "grid_area": null,
      "grid_auto_columns": null,
      "grid_auto_flow": null,
      "grid_auto_rows": null,
      "grid_column": null,
      "grid_gap": null,
      "grid_row": null,
      "grid_template_areas": null,
      "grid_template_columns": null,
      "grid_template_rows": null,
      "height": null,
      "justify_content": null,
      "justify_items": null,
      "left": null,
      "margin": null,
      "max_height": null,
      "max_width": null,
      "min_height": null,
      "min_width": null,
      "object_fit": null,
      "object_position": null,
      "order": null,
      "overflow": null,
      "overflow_x": null,
      "overflow_y": null,
      "padding": null,
      "right": null,
      "top": null,
      "visibility": null,
      "width": null
     }
    },
    "63b794844d6441ffa4d79a118e0accf6": {
     "model_module": "@jupyter-widgets/controls",
     "model_name": "HBoxModel",
     "state": {
      "_dom_classes": [],
      "_model_module": "@jupyter-widgets/controls",
      "_model_module_version": "1.5.0",
      "_model_name": "HBoxModel",
      "_view_count": null,
      "_view_module": "@jupyter-widgets/controls",
      "_view_module_version": "1.5.0",
      "_view_name": "HBoxView",
      "box_style": "",
      "children": [
       "IPY_MODEL_169b7a049f6c45e4b292d418e987662e",
       "IPY_MODEL_200ca3887a7b448cb94b21b3ff49503e"
      ],
      "layout": "IPY_MODEL_bfa74eee3b664d09bb39d82161c2dcfd"
     }
    },
    "69f1686699b840b4b751eda76873bb4b": {
     "model_module": "@jupyter-widgets/controls",
     "model_name": "DescriptionStyleModel",
     "state": {
      "_model_module": "@jupyter-widgets/controls",
      "_model_module_version": "1.5.0",
      "_model_name": "DescriptionStyleModel",
      "_view_count": null,
      "_view_module": "@jupyter-widgets/base",
      "_view_module_version": "1.2.0",
      "_view_name": "StyleView",
      "description_width": ""
     }
    },
    "86b6ebb7042e4944a4a3bf35dd1b3e30": {
     "model_module": "@jupyter-widgets/base",
     "model_name": "LayoutModel",
     "state": {
      "_model_module": "@jupyter-widgets/base",
      "_model_module_version": "1.2.0",
      "_model_name": "LayoutModel",
      "_view_count": null,
      "_view_module": "@jupyter-widgets/base",
      "_view_module_version": "1.2.0",
      "_view_name": "LayoutView",
      "align_content": null,
      "align_items": null,
      "align_self": null,
      "border": null,
      "bottom": null,
      "display": null,
      "flex": null,
      "flex_flow": null,
      "grid_area": null,
      "grid_auto_columns": null,
      "grid_auto_flow": null,
      "grid_auto_rows": null,
      "grid_column": null,
      "grid_gap": null,
      "grid_row": null,
      "grid_template_areas": null,
      "grid_template_columns": null,
      "grid_template_rows": null,
      "height": null,
      "justify_content": null,
      "justify_items": null,
      "left": null,
      "margin": null,
      "max_height": null,
      "max_width": null,
      "min_height": null,
      "min_width": null,
      "object_fit": null,
      "object_position": null,
      "order": null,
      "overflow": null,
      "overflow_x": null,
      "overflow_y": null,
      "padding": null,
      "right": null,
      "top": null,
      "visibility": null,
      "width": null
     }
    },
    "89749026aa3f4ae0bcb64da46ef84e08": {
     "model_module": "@jupyter-widgets/controls",
     "model_name": "ProgressStyleModel",
     "state": {
      "_model_module": "@jupyter-widgets/controls",
      "_model_module_version": "1.5.0",
      "_model_name": "ProgressStyleModel",
      "_view_count": null,
      "_view_module": "@jupyter-widgets/base",
      "_view_module_version": "1.2.0",
      "_view_name": "StyleView",
      "bar_color": null,
      "description_width": "initial"
     }
    },
    "91b820046b5141e58a621269a88b30c0": {
     "model_module": "@jupyter-widgets/controls",
     "model_name": "HBoxModel",
     "state": {
      "_dom_classes": [],
      "_model_module": "@jupyter-widgets/controls",
      "_model_module_version": "1.5.0",
      "_model_name": "HBoxModel",
      "_view_count": null,
      "_view_module": "@jupyter-widgets/controls",
      "_view_module_version": "1.5.0",
      "_view_name": "HBoxView",
      "box_style": "",
      "children": [
       "IPY_MODEL_eb6984c2dae642549fb1643fc0a8712f",
       "IPY_MODEL_2c6044851d6b448dad25db068e54037b"
      ],
      "layout": "IPY_MODEL_e06e577925204678a665be50ef294379"
     }
    },
    "920f58e1b3da43478983f5a586e600dc": {
     "model_module": "@jupyter-widgets/controls",
     "model_name": "FloatProgressModel",
     "state": {
      "_dom_classes": [],
      "_model_module": "@jupyter-widgets/controls",
      "_model_module_version": "1.5.0",
      "_model_name": "FloatProgressModel",
      "_view_count": null,
      "_view_module": "@jupyter-widgets/controls",
      "_view_module_version": "1.5.0",
      "_view_name": "ProgressView",
      "bar_style": "success",
      "description": "",
      "description_tooltip": null,
      "layout": "IPY_MODEL_2645629a965e451fa3d045a46171f424",
      "max": 9912422,
      "min": 0,
      "orientation": "horizontal",
      "style": "IPY_MODEL_2e10cad817ef4bf78dad17faf56c96d4",
      "value": 9912422
     }
    },
    "9348dd6423db47c8a7f35c0b4a361e75": {
     "model_module": "@jupyter-widgets/controls",
     "model_name": "DescriptionStyleModel",
     "state": {
      "_model_module": "@jupyter-widgets/controls",
      "_model_module_version": "1.5.0",
      "_model_name": "DescriptionStyleModel",
      "_view_count": null,
      "_view_module": "@jupyter-widgets/base",
      "_view_module_version": "1.2.0",
      "_view_name": "StyleView",
      "description_width": ""
     }
    },
    "95c1741c3af64f1cadcf24f0ce7930fd": {
     "model_module": "@jupyter-widgets/base",
     "model_name": "LayoutModel",
     "state": {
      "_model_module": "@jupyter-widgets/base",
      "_model_module_version": "1.2.0",
      "_model_name": "LayoutModel",
      "_view_count": null,
      "_view_module": "@jupyter-widgets/base",
      "_view_module_version": "1.2.0",
      "_view_name": "LayoutView",
      "align_content": null,
      "align_items": null,
      "align_self": null,
      "border": null,
      "bottom": null,
      "display": null,
      "flex": null,
      "flex_flow": null,
      "grid_area": null,
      "grid_auto_columns": null,
      "grid_auto_flow": null,
      "grid_auto_rows": null,
      "grid_column": null,
      "grid_gap": null,
      "grid_row": null,
      "grid_template_areas": null,
      "grid_template_columns": null,
      "grid_template_rows": null,
      "height": null,
      "justify_content": null,
      "justify_items": null,
      "left": null,
      "margin": null,
      "max_height": null,
      "max_width": null,
      "min_height": null,
      "min_width": null,
      "object_fit": null,
      "object_position": null,
      "order": null,
      "overflow": null,
      "overflow_x": null,
      "overflow_y": null,
      "padding": null,
      "right": null,
      "top": null,
      "visibility": null,
      "width": null
     }
    },
    "a1bc052f6cdb4899b1997331bf5a4095": {
     "model_module": "@jupyter-widgets/base",
     "model_name": "LayoutModel",
     "state": {
      "_model_module": "@jupyter-widgets/base",
      "_model_module_version": "1.2.0",
      "_model_name": "LayoutModel",
      "_view_count": null,
      "_view_module": "@jupyter-widgets/base",
      "_view_module_version": "1.2.0",
      "_view_name": "LayoutView",
      "align_content": null,
      "align_items": null,
      "align_self": null,
      "border": null,
      "bottom": null,
      "display": null,
      "flex": null,
      "flex_flow": null,
      "grid_area": null,
      "grid_auto_columns": null,
      "grid_auto_flow": null,
      "grid_auto_rows": null,
      "grid_column": null,
      "grid_gap": null,
      "grid_row": null,
      "grid_template_areas": null,
      "grid_template_columns": null,
      "grid_template_rows": null,
      "height": null,
      "justify_content": null,
      "justify_items": null,
      "left": null,
      "margin": null,
      "max_height": null,
      "max_width": null,
      "min_height": null,
      "min_width": null,
      "object_fit": null,
      "object_position": null,
      "order": null,
      "overflow": null,
      "overflow_x": null,
      "overflow_y": null,
      "padding": null,
      "right": null,
      "top": null,
      "visibility": null,
      "width": null
     }
    },
    "b507015afbc6402fb74d85665306f608": {
     "model_module": "@jupyter-widgets/controls",
     "model_name": "ProgressStyleModel",
     "state": {
      "_model_module": "@jupyter-widgets/controls",
      "_model_module_version": "1.5.0",
      "_model_name": "ProgressStyleModel",
      "_view_count": null,
      "_view_module": "@jupyter-widgets/base",
      "_view_module_version": "1.2.0",
      "_view_name": "StyleView",
      "bar_color": null,
      "description_width": "initial"
     }
    },
    "bfa74eee3b664d09bb39d82161c2dcfd": {
     "model_module": "@jupyter-widgets/base",
     "model_name": "LayoutModel",
     "state": {
      "_model_module": "@jupyter-widgets/base",
      "_model_module_version": "1.2.0",
      "_model_name": "LayoutModel",
      "_view_count": null,
      "_view_module": "@jupyter-widgets/base",
      "_view_module_version": "1.2.0",
      "_view_name": "LayoutView",
      "align_content": null,
      "align_items": null,
      "align_self": null,
      "border": null,
      "bottom": null,
      "display": null,
      "flex": null,
      "flex_flow": null,
      "grid_area": null,
      "grid_auto_columns": null,
      "grid_auto_flow": null,
      "grid_auto_rows": null,
      "grid_column": null,
      "grid_gap": null,
      "grid_row": null,
      "grid_template_areas": null,
      "grid_template_columns": null,
      "grid_template_rows": null,
      "height": null,
      "justify_content": null,
      "justify_items": null,
      "left": null,
      "margin": null,
      "max_height": null,
      "max_width": null,
      "min_height": null,
      "min_width": null,
      "object_fit": null,
      "object_position": null,
      "order": null,
      "overflow": null,
      "overflow_x": null,
      "overflow_y": null,
      "padding": null,
      "right": null,
      "top": null,
      "visibility": null,
      "width": null
     }
    },
    "bfc0c404cdd142fa8a541025206427b6": {
     "model_module": "@jupyter-widgets/controls",
     "model_name": "FloatProgressModel",
     "state": {
      "_dom_classes": [],
      "_model_module": "@jupyter-widgets/controls",
      "_model_module_version": "1.5.0",
      "_model_name": "FloatProgressModel",
      "_view_count": null,
      "_view_module": "@jupyter-widgets/controls",
      "_view_module_version": "1.5.0",
      "_view_name": "ProgressView",
      "bar_style": "success",
      "description": "",
      "description_tooltip": null,
      "layout": "IPY_MODEL_a1bc052f6cdb4899b1997331bf5a4095",
      "max": 28881,
      "min": 0,
      "orientation": "horizontal",
      "style": "IPY_MODEL_89749026aa3f4ae0bcb64da46ef84e08",
      "value": 28881
     }
    },
    "c36f7c1748c64434ad25c0b206213efd": {
     "model_module": "@jupyter-widgets/controls",
     "model_name": "DescriptionStyleModel",
     "state": {
      "_model_module": "@jupyter-widgets/controls",
      "_model_module_version": "1.5.0",
      "_model_name": "DescriptionStyleModel",
      "_view_count": null,
      "_view_module": "@jupyter-widgets/base",
      "_view_module_version": "1.2.0",
      "_view_name": "StyleView",
      "description_width": ""
     }
    },
    "ed3dd85b2d414ac6ae66bab9d56b755b": {
     "model_module": "@jupyter-widgets/base",
     "model_name": "LayoutModel",
     "state": {
      "_model_module": "@jupyter-widgets/base",
      "_model_module_version": "1.2.0",
      "_model_name": "LayoutModel",
      "_view_count": null,
      "_view_module": "@jupyter-widgets/base",
      "_view_module_version": "1.2.0",
      "_view_name": "LayoutView",
      "align_content": null,
      "align_items": null,
      "align_self": null,
      "border": null,
      "bottom": null,
      "display": null,
      "flex": null,
      "flex_flow": null,
      "grid_area": null,
      "grid_auto_columns": null,
      "grid_auto_flow": null,
      "grid_auto_rows": null,
      "grid_column": null,
      "grid_gap": null,
      "grid_row": null,
      "grid_template_areas": null,
      "grid_template_columns": null,
      "grid_template_rows": null,
      "height": null,
      "justify_content": null,
      "justify_items": null,
      "left": null,
      "margin": null,
      "max_height": null,
      "max_width": null,
      "min_height": null,
      "min_width": null,
      "object_fit": null,
      "object_position": null,
      "order": null,
      "overflow": null,
      "overflow_x": null,
      "overflow_y": null,
      "padding": null,
      "right": null,
      "top": null,
      "visibility": null,
      "width": null
     }
    }
   }
  }
 },
 "nbformat": 4,
 "nbformat_minor": 1
}

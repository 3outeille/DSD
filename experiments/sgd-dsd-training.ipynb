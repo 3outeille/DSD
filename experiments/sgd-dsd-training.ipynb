{
 "cells": [
  {
   "cell_type": "code",
   "execution_count": 1,
   "id": "clean-hunger",
   "metadata": {},
   "outputs": [],
   "source": [
    "import tensorflow as tf\n",
    "from tensorflow.keras import datasets, layers, Model, utils\n",
    "from dsd import DSDTraining, UpdateMasks\n",
    "from utils import plot_wb, wb_non_zero_percentage"
   ]
  },
  {
   "cell_type": "markdown",
   "id": "center-thousand",
   "metadata": {},
   "source": [
    "# Dataset"
   ]
  },
  {
   "cell_type": "code",
   "execution_count": 2,
   "id": "polar-setup",
   "metadata": {},
   "outputs": [
    {
     "name": "stdout",
     "output_type": "stream",
     "text": [
      "(60000, 784) (10000, 784)\n"
     ]
    }
   ],
   "source": [
    "(train_x, train_y), (test_x, test_y) = datasets.mnist.load_data()\n",
    "train_x = train_x.reshape([train_x.shape[0], -1]) / 255.\n",
    "test_x = test_x.reshape([test_x.shape[0], -1]) / 255.\n",
    "\n",
    "train_y = utils.to_categorical(train_y, 10)\n",
    "test_y = utils.to_categorical(test_y, 10)\n",
    "\n",
    "print(train_x.shape, test_x.shape)"
   ]
  },
  {
   "cell_type": "markdown",
   "id": "indonesian-prince",
   "metadata": {},
   "source": [
    "# Model"
   ]
  },
  {
   "cell_type": "code",
   "execution_count": 3,
   "id": "automotive-victoria",
   "metadata": {},
   "outputs": [],
   "source": [
    "class NN(tf.keras.Model):\n",
    "    \n",
    "    def __init__(self, inputs_shape= 28 * 28):\n",
    "        super(NN, self).__init__()\n",
    "\n",
    "        self.inputs_shape = inputs_shape\n",
    "        \n",
    "        self.fc1 = layers.Dense(512, activation=\"relu\", kernel_initializer='glorot_uniform')\n",
    "        self.fc2 = layers.Dense(10, activation=\"softmax\", kernel_initializer='glorot_uniform')\n",
    "        \n",
    "        self.build_model()\n",
    "        \n",
    "    def call(self, x):\n",
    "        x = self.fc1(x)\n",
    "        x = self.fc2(x)\n",
    "        return x\n",
    "\n",
    "    def build_model(self):\n",
    "        x = layers.Input(shape=self.inputs_shape)\n",
    "        return Model(inputs=[x], outputs = self.call(x))"
   ]
  },
  {
   "cell_type": "code",
   "execution_count": 4,
   "id": "occupied-healthcare",
   "metadata": {},
   "outputs": [],
   "source": [
    "tf.random.set_seed(42)\n",
    "dsd_model = DSDTraining(NN(), 0.5)\n",
    "dsd_model.compile(optimizer='sgd', loss=\"categorical_crossentropy\", metrics=[\"accuracy\"])"
   ]
  },
  {
   "cell_type": "markdown",
   "id": "conditional-stress",
   "metadata": {},
   "source": [
    "# I/ Train on Dense"
   ]
  },
  {
   "cell_type": "code",
   "execution_count": 5,
   "id": "capital-indie",
   "metadata": {},
   "outputs": [
    {
     "name": "stdout",
     "output_type": "stream",
     "text": [
      "Epoch 1/4\n",
      "1875/1875 [==============================] - 8s 4ms/step - loss: 0.9726 - accuracy: 0.7604\n",
      "Epoch 2/4\n",
      "1875/1875 [==============================] - 7s 4ms/step - loss: 0.3351 - accuracy: 0.9069\n",
      "Epoch 3/4\n",
      "1875/1875 [==============================] - 8s 4ms/step - loss: 0.2861 - accuracy: 0.9206\n",
      "Epoch 4/4\n",
      "1875/1875 [==============================] - 7s 4ms/step - loss: 0.2505 - accuracy: 0.9294\n"
     ]
    },
    {
     "data": {
      "text/plain": [
       "<tensorflow.python.keras.callbacks.History at 0x7f7964b1e588>"
      ]
     },
     "execution_count": 5,
     "metadata": {},
     "output_type": "execute_result"
    }
   ],
   "source": [
    "dsd_model.fit(train_x, train_y, epochs=4)"
   ]
  },
  {
   "cell_type": "code",
   "execution_count": 6,
   "id": "early-spelling",
   "metadata": {},
   "outputs": [
    {
     "name": "stdout",
     "output_type": "stream",
     "text": [
      "Percentage of non-zero value dense: w = 100.0 | b = 100.0\n"
     ]
    },
    {
     "data": {
      "image/png": "[encoded data removed]",
      "text/plain": [
       "<Figure size 1080x360 with 2 Axes>"
      ]
     },
     "metadata": {
      "needs_background": "light"
     },
     "output_type": "display_data"
    }
   ],
   "source": [
    "plot_wb(dsd_model.model)\n",
    "wb_non_zero_percentage(dsd_model.model)"
   ]
  },
  {
   "cell_type": "markdown",
   "id": "alternative-contribution",
   "metadata": {},
   "source": [
    "# II/ Train on sparse"
   ]
  },
  {
   "cell_type": "code",
   "execution_count": 7,
   "id": "oriental-federal",
   "metadata": {},
   "outputs": [],
   "source": [
    "dsd_model.train_on_sparse = True\n",
    "dsd_model.compile(optimizer='sgd', loss=\"categorical_crossentropy\", metrics=[\"accuracy\"])"
   ]
  },
  {
   "cell_type": "code",
   "execution_count": 8,
   "id": "american-benjamin",
   "metadata": {},
   "outputs": [
    {
     "name": "stdout",
     "output_type": "stream",
     "text": [
      "Epoch 1/3\n",
      "1875/1875 [==============================] - 9s 4ms/step - loss: 0.2424 - accuracy: 0.9345\n",
      "Epoch 2/3\n",
      "1875/1875 [==============================] - 8s 5ms/step - loss: 0.2209 - accuracy: 0.9393\n",
      "Epoch 3/3\n",
      "1875/1875 [==============================] - 9s 5ms/step - loss: 0.2128 - accuracy: 0.9409\n"
     ]
    },
    {
     "data": {
      "text/plain": [
       "<tensorflow.python.keras.callbacks.History at 0x7f794258a198>"
      ]
     },
     "execution_count": 8,
     "metadata": {},
     "output_type": "execute_result"
    }
   ],
   "source": [
    "dsd_model.fit(train_x, train_y, epochs=3, callbacks=[UpdateMasks()])"
   ]
  },
  {
   "cell_type": "code",
   "execution_count": 9,
   "id": "initial-shame",
   "metadata": {},
   "outputs": [
    {
     "name": "stdout",
     "output_type": "stream",
     "text": [
      "Percentage of non-zero value dense: w = 50.0 | b = 50.0\n"
     ]
    },
    {
     "data": {
      "image/png": "[encoded data removed]",
      "text/plain": [
       "<Figure size 1080x360 with 2 Axes>"
      ]
     },
     "metadata": {
      "needs_background": "light"
     },
     "output_type": "display_data"
    }
   ],
   "source": [
    "plot_wb(dsd_model.model)\n",
    "wb_non_zero_percentage(dsd_model.model)"
   ]
  },
  {
   "cell_type": "markdown",
   "id": "requested-carbon",
   "metadata": {},
   "source": [
    "# III/ Train on Dense"
   ]
  },
  {
   "cell_type": "code",
   "execution_count": 10,
   "id": "mental-continuity",
   "metadata": {},
   "outputs": [],
   "source": [
    "dsd_model.train_on_sparse = False\n",
    "dsd_model.compile(optimizer=\"sgd\", loss=\"categorical_crossentropy\", metrics=[\"accuracy\"])"
   ]
  },
  {
   "cell_type": "code",
   "execution_count": null,
   "id": "involved-magic",
   "metadata": {},
   "outputs": [
    {
     "name": "stdout",
     "output_type": "stream",
     "text": [
      "Epoch 1/3\n",
      "1875/1875 [==============================] - 10s 5ms/step - loss: 0.1991 - accuracy: 0.9452\n",
      "Epoch 2/3\n",
      "1875/1875 [==============================] - 9s 5ms/step - loss: 0.1807 - accuracy: 0.9500\n",
      "Epoch 3/3\n",
      " 511/1875 [=======>......................] - ETA: 6s - loss: 0.1750 - accuracy: 0.9521"
     ]
    }
   ],
   "source": [
    "dsd_model.fit(train_x, train_y, epochs=3)"
   ]
  },
  {
   "cell_type": "code",
   "execution_count": null,
   "id": "textile-pharmacology",
   "metadata": {},
   "outputs": [],
   "source": [
    "plot_wb(dsd_model.model)\n",
    "wb_non_zero_percentage(dsd_model.model)"
   ]
  },
  {
   "cell_type": "code",
   "execution_count": null,
   "id": "faced-vacation",
   "metadata": {},
   "outputs": [],
   "source": [
    "dsd_model.evaluate(test_x, test_y)"
   ]
  }
 ],
 "metadata": {
  "kernelspec": {
   "display_name": "env",
   "language": "python",
   "name": "env"
  },
  "language_info": {
   "codemirror_mode": {
    "name": "ipython",
    "version": 3
   },
   "file_extension": ".py",
   "mimetype": "text/x-python",
   "name": "python",
   "nbconvert_exporter": "python",
   "pygments_lexer": "ipython3",
   "version": "3.6.9"
  }
 },
 "nbformat": 4,
 "nbformat_minor": 5
}

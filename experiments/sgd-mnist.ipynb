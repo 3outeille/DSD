{
 "cells": [
  {
   "cell_type": "code",
   "execution_count": 8,
   "id": "exotic-alfred",
   "metadata": {},
   "outputs": [],
   "source": [
    "import tensorflow as tf\n",
    "from tensorflow.keras import datasets, layers, Model, utils\n",
    "from dsd import DSDTraining, UpdateMasks\n",
    "from utils import plot_wb, wb_non_zero_percentage"
   ]
  },
  {
   "cell_type": "markdown",
   "id": "independent-lodge",
   "metadata": {},
   "source": [
    "# Dataset"
   ]
  },
  {
   "cell_type": "code",
   "execution_count": 9,
   "id": "accomplished-vacuum",
   "metadata": {},
   "outputs": [
    {
     "name": "stdout",
     "output_type": "stream",
     "text": [
      "(60000, 784) (10000, 784)\n"
     ]
    }
   ],
   "source": [
    "(train_x, train_y), (test_x, test_y) = datasets.mnist.load_data()\n",
    "train_x = train_x.reshape([train_x.shape[0], -1]) / 255.\n",
    "test_x = test_x.reshape([test_x.shape[0], -1]) / 255.\n",
    "\n",
    "train_y = utils.to_categorical(train_y, 10)\n",
    "test_y = utils.to_categorical(test_y, 10)\n",
    "\n",
    "print(train_x.shape, test_x.shape)"
   ]
  },
  {
   "cell_type": "markdown",
   "id": "accurate-nothing",
   "metadata": {},
   "source": [
    "# Model"
   ]
  },
  {
   "cell_type": "code",
   "execution_count": 10,
   "id": "enabling-jenny",
   "metadata": {},
   "outputs": [],
   "source": [
    "class NN(tf.keras.Model):\n",
    "    \n",
    "    def __init__(self, inputs_shape= 28 * 28):\n",
    "        super(NN, self).__init__()\n",
    "\n",
    "        self.inputs_shape = inputs_shape\n",
    "        \n",
    "        self.fc1 = layers.Dense(512, activation=\"relu\", kernel_initializer='glorot_uniform')\n",
    "        self.fc2 = layers.Dense(10, activation=\"softmax\", kernel_initializer='glorot_uniform')\n",
    "        \n",
    "        self.build_model()\n",
    "        \n",
    "    def call(self, x):\n",
    "        x = self.fc1(x)\n",
    "        x = self.fc2(x)\n",
    "        return x\n",
    "\n",
    "    def build_model(self):\n",
    "        x = layers.Input(shape=self.inputs_shape)\n",
    "        return Model(inputs=[x], outputs = self.call(x))"
   ]
  },
  {
   "cell_type": "code",
   "execution_count": 11,
   "id": "detected-conversation",
   "metadata": {},
   "outputs": [],
   "source": [
    "tf.random.set_seed(42)\n",
    "model = NN()\n",
    "model.compile(optimizer='sgd', loss=\"categorical_crossentropy\", metrics=[\"accuracy\"])"
   ]
  },
  {
   "cell_type": "code",
   "execution_count": 12,
   "id": "exterior-discretion",
   "metadata": {},
   "outputs": [
    {
     "name": "stdout",
     "output_type": "stream",
     "text": [
      "Epoch 1/10\n",
      "1875/1875 [==============================] - 9s 5ms/step - loss: 0.9726 - accuracy: 0.7604\n",
      "Epoch 2/10\n",
      "1875/1875 [==============================] - 10s 5ms/step - loss: 0.3351 - accuracy: 0.9069\n",
      "Epoch 3/10\n",
      "1875/1875 [==============================] - 8s 4ms/step - loss: 0.2861 - accuracy: 0.9206\n",
      "Epoch 4/10\n",
      "1875/1875 [==============================] - 7s 4ms/step - loss: 0.2505 - accuracy: 0.9294\n",
      "Epoch 5/10\n",
      "1875/1875 [==============================] - 8s 4ms/step - loss: 0.2320 - accuracy: 0.9354\n",
      "Epoch 6/10\n",
      "1875/1875 [==============================] - 7s 4ms/step - loss: 0.2083 - accuracy: 0.9414\n",
      "Epoch 7/10\n",
      "1875/1875 [==============================] - 7s 4ms/step - loss: 0.1893 - accuracy: 0.9463\n",
      "Epoch 8/10\n",
      "1875/1875 [==============================] - 7s 4ms/step - loss: 0.1703 - accuracy: 0.9527\n",
      "Epoch 9/10\n",
      "1875/1875 [==============================] - 7s 4ms/step - loss: 0.1621 - accuracy: 0.9546\n",
      "Epoch 10/10\n",
      "1875/1875 [==============================] - 7s 4ms/step - loss: 0.1494 - accuracy: 0.9591\n"
     ]
    },
    {
     "data": {
      "text/plain": [
       "<tensorflow.python.keras.callbacks.History at 0x7f7f5007e550>"
      ]
     },
     "execution_count": 12,
     "metadata": {},
     "output_type": "execute_result"
    }
   ],
   "source": [
    "model.fit(train_x, train_y, epochs=10)"
   ]
  },
  {
   "cell_type": "code",
   "execution_count": 13,
   "id": "imported-texas",
   "metadata": {},
   "outputs": [
    {
     "name": "stdout",
     "output_type": "stream",
     "text": [
      "313/313 [==============================] - 1s 2ms/step - loss: 0.1499 - accuracy: 0.9563\n"
     ]
    },
    {
     "data": {
      "text/plain": [
       "[0.149937242269516, 0.9563000202178955]"
      ]
     },
     "execution_count": 13,
     "metadata": {},
     "output_type": "execute_result"
    }
   ],
   "source": [
    "model.evaluate(test_x, test_y)"
   ]
  }
 ],
 "metadata": {
  "kernelspec": {
   "display_name": "env",
   "language": "python",
   "name": "env"
  },
  "language_info": {
   "codemirror_mode": {
    "name": "ipython",
    "version": 3
   },
   "file_extension": ".py",
   "mimetype": "text/x-python",
   "name": "python",
   "nbconvert_exporter": "python",
   "pygments_lexer": "ipython3",
   "version": "3.6.9"
  }
 },
 "nbformat": 4,
 "nbformat_minor": 5
}

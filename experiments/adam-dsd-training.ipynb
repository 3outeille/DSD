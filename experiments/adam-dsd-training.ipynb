{
 "cells": [
  {
   "cell_type": "code",
   "execution_count": 1,
   "id": "clean-hunger",
   "metadata": {},
   "outputs": [],
   "source": [
    "import tensorflow as tf\n",
    "from tensorflow.keras import datasets, layers, Model, utils\n",
    "from dsd import DSDTraining, UpdateMasks\n",
    "from utils import plot_wb, wb_non_zero_percentage"
   ]
  },
  {
   "cell_type": "markdown",
   "id": "center-thousand",
   "metadata": {},
   "source": [
    "# Dataset"
   ]
  },
  {
   "cell_type": "code",
   "execution_count": 2,
   "id": "polar-setup",
   "metadata": {},
   "outputs": [
    {
     "name": "stdout",
     "output_type": "stream",
     "text": [
      "(60000, 784) (10000, 784)\n"
     ]
    }
   ],
   "source": [
    "(train_x, train_y), (test_x, test_y) = datasets.mnist.load_data()\n",
    "train_x = train_x.reshape([train_x.shape[0], -1]) / 255.\n",
    "test_x = test_x.reshape([test_x.shape[0], -1]) / 255.\n",
    "\n",
    "train_y = utils.to_categorical(train_y, 10)\n",
    "test_y = utils.to_categorical(test_y, 10)\n",
    "\n",
    "print(train_x.shape, test_x.shape)"
   ]
  },
  {
   "cell_type": "markdown",
   "id": "indonesian-prince",
   "metadata": {},
   "source": [
    "# Model"
   ]
  },
  {
   "cell_type": "code",
   "execution_count": 3,
   "id": "automotive-victoria",
   "metadata": {},
   "outputs": [],
   "source": [
    "class NN(tf.keras.Model):\n",
    "    \n",
    "    def __init__(self, inputs_shape= 28 * 28):\n",
    "        super(NN, self).__init__()\n",
    "\n",
    "        self.inputs_shape = inputs_shape\n",
    "        \n",
    "        self.fc1 = layers.Dense(512, activation=\"relu\", kernel_initializer='glorot_uniform')\n",
    "        self.fc2 = layers.Dense(10, activation=\"softmax\", kernel_initializer='glorot_uniform')\n",
    "        \n",
    "        self.build_model()\n",
    "        \n",
    "    def call(self, x):\n",
    "        x = self.fc1(x)\n",
    "        x = self.fc2(x)\n",
    "        return x\n",
    "\n",
    "    def build_model(self):\n",
    "        x = layers.Input(shape=self.inputs_shape)\n",
    "        return Model(inputs=[x], outputs = self.call(x))"
   ]
  },
  {
   "cell_type": "code",
   "execution_count": 4,
   "id": "occupied-healthcare",
   "metadata": {},
   "outputs": [],
   "source": [
    "tf.random.set_seed(42)\n",
    "dsd_model = DSDTraining(NN(), 0.5)\n",
    "dsd_model.compile(optimizer='adam', loss=\"categorical_crossentropy\", metrics=[\"accuracy\"])"
   ]
  },
  {
   "cell_type": "markdown",
   "id": "conditional-stress",
   "metadata": {},
   "source": [
    "# I/ Train on Dense"
   ]
  },
  {
   "cell_type": "code",
   "execution_count": 5,
   "id": "capital-indie",
   "metadata": {},
   "outputs": [
    {
     "name": "stdout",
     "output_type": "stream",
     "text": [
      "Epoch 1/4\n",
      "1875/1875 [==============================] - 9s 4ms/step - loss: 0.3412 - accuracy: 0.8991\n",
      "Epoch 2/4\n",
      "1875/1875 [==============================] - 8s 4ms/step - loss: 0.0814 - accuracy: 0.9742\n",
      "Epoch 3/4\n",
      "1875/1875 [==============================] - 9s 5ms/step - loss: 0.0515 - accuracy: 0.9838\n",
      "Epoch 4/4\n",
      "1875/1875 [==============================] - 8s 4ms/step - loss: 0.0339 - accuracy: 0.9891\n"
     ]
    },
    {
     "data": {
      "text/plain": [
       "<tensorflow.python.keras.callbacks.History at 0x7fec1b4b4208>"
      ]
     },
     "execution_count": 5,
     "metadata": {},
     "output_type": "execute_result"
    }
   ],
   "source": [
    "dsd_model.fit(train_x, train_y, epochs=4)"
   ]
  },
  {
   "cell_type": "code",
   "execution_count": 6,
   "id": "early-spelling",
   "metadata": {},
   "outputs": [
    {
     "name": "stdout",
     "output_type": "stream",
     "text": [
      "Percentage of non-zero value dense: w = 100.0 | b = 100.0\n"
     ]
    },
    {
     "data": {
      "image/png": "[encoded data removed]",
      "text/plain": [
       "<Figure size 1080x360 with 2 Axes>"
      ]
     },
     "metadata": {
      "needs_background": "light"
     },
     "output_type": "display_data"
    }
   ],
   "source": [
    "plot_wb(dsd_model.model)\n",
    "wb_non_zero_percentage(dsd_model.model)"
   ]
  },
  {
   "cell_type": "markdown",
   "id": "alternative-contribution",
   "metadata": {},
   "source": [
    "# II/ Train on sparse"
   ]
  },
  {
   "cell_type": "code",
   "execution_count": 7,
   "id": "oriental-federal",
   "metadata": {},
   "outputs": [],
   "source": [
    "dsd_model.train_on_sparse = True\n",
    "dsd_model.compile(optimizer='adam', loss=\"categorical_crossentropy\", metrics=[\"accuracy\"])"
   ]
  },
  {
   "cell_type": "code",
   "execution_count": 8,
   "id": "american-benjamin",
   "metadata": {},
   "outputs": [
    {
     "name": "stdout",
     "output_type": "stream",
     "text": [
      "Epoch 1/3\n",
      "1875/1875 [==============================] - 10s 5ms/step - loss: 0.0198 - accuracy: 0.9942\n",
      "Epoch 2/3\n",
      "1875/1875 [==============================] - 10s 5ms/step - loss: 0.0096 - accuracy: 0.9977\n",
      "Epoch 3/3\n",
      "1875/1875 [==============================] - 10s 5ms/step - loss: 0.0075 - accuracy: 0.9978\n"
     ]
    },
    {
     "data": {
      "text/plain": [
       "<tensorflow.python.keras.callbacks.History at 0x7febe8fa0748>"
      ]
     },
     "execution_count": 8,
     "metadata": {},
     "output_type": "execute_result"
    }
   ],
   "source": [
    "dsd_model.fit(train_x, train_y, epochs=3, callbacks=[UpdateMasks()])"
   ]
  },
  {
   "cell_type": "code",
   "execution_count": 9,
   "id": "initial-shame",
   "metadata": {},
   "outputs": [
    {
     "name": "stdout",
     "output_type": "stream",
     "text": [
      "Percentage of non-zero value dense: w = 50.0 | b = 50.0\n"
     ]
    },
    {
     "data": {
      "image/png": "[encoded data removed]",
      "text/plain": [
       "<Figure size 1080x360 with 2 Axes>"
      ]
     },
     "metadata": {
      "needs_background": "light"
     },
     "output_type": "display_data"
    }
   ],
   "source": [
    "plot_wb(dsd_model.model)\n",
    "wb_non_zero_percentage(dsd_model.model)"
   ]
  },
  {
   "cell_type": "markdown",
   "id": "requested-carbon",
   "metadata": {},
   "source": [
    "# III/ Train on Dense"
   ]
  },
  {
   "cell_type": "code",
   "execution_count": 10,
   "id": "mental-continuity",
   "metadata": {},
   "outputs": [],
   "source": [
    "dsd_model.train_on_sparse = False\n",
    "dsd_model.compile(optimizer=\"adam\", loss=\"categorical_crossentropy\", metrics=[\"accuracy\"])"
   ]
  },
  {
   "cell_type": "code",
   "execution_count": 11,
   "id": "involved-magic",
   "metadata": {},
   "outputs": [
    {
     "name": "stdout",
     "output_type": "stream",
     "text": [
      "Epoch 1/3\n",
      "1875/1875 [==============================] - 9s 5ms/step - loss: 0.0154 - accuracy: 0.9947\n",
      "Epoch 2/3\n",
      "1875/1875 [==============================] - 10s 5ms/step - loss: 0.0116 - accuracy: 0.9959\n",
      "Epoch 3/3\n",
      "1875/1875 [==============================] - 9s 5ms/step - loss: 0.0089 - accuracy: 0.9971\n"
     ]
    },
    {
     "data": {
      "text/plain": [
       "<tensorflow.python.keras.callbacks.History at 0x7febe83a3630>"
      ]
     },
     "execution_count": 11,
     "metadata": {},
     "output_type": "execute_result"
    }
   ],
   "source": [
    "dsd_model.fit(train_x, train_y, epochs=3)"
   ]
  },
  {
   "cell_type": "code",
   "execution_count": 12,
   "id": "textile-pharmacology",
   "metadata": {},
   "outputs": [
    {
     "name": "stdout",
     "output_type": "stream",
     "text": [
      "Percentage of non-zero value dense: w = 89.01118064413265 | b = 89.01118064413265\n"
     ]
    },
    {
     "data": {
      "image/png": "[encoded data removed]",
      "text/plain": [
       "<Figure size 1080x360 with 2 Axes>"
      ]
     },
     "metadata": {
      "needs_background": "light"
     },
     "output_type": "display_data"
    }
   ],
   "source": [
    "plot_wb(dsd_model.model)\n",
    "wb_non_zero_percentage(dsd_model.model)"
   ]
  },
  {
   "cell_type": "code",
   "execution_count": 13,
   "id": "faced-vacation",
   "metadata": {},
   "outputs": [
    {
     "name": "stdout",
     "output_type": "stream",
     "text": [
      "313/313 [==============================] - 1s 3ms/step - loss: 0.0791 - accuracy: 0.9819\n"
     ]
    },
    {
     "data": {
      "text/plain": [
       "[0.07908794283866882, 0.9818999767303467]"
      ]
     },
     "execution_count": 13,
     "metadata": {},
     "output_type": "execute_result"
    }
   ],
   "source": [
    "dsd_model.evaluate(test_x, test_y)"
   ]
  }
 ],
 "metadata": {
  "kernelspec": {
   "display_name": "env",
   "language": "python",
   "name": "env"
  },
  "language_info": {
   "codemirror_mode": {
    "name": "ipython",
    "version": 3
   },
   "file_extension": ".py",
   "mimetype": "text/x-python",
   "name": "python",
   "nbconvert_exporter": "python",
   "pygments_lexer": "ipython3",
   "version": "3.6.9"
  }
 },
 "nbformat": 4,
 "nbformat_minor": 5
}

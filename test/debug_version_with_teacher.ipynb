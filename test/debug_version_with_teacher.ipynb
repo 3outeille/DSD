{
 "cells": [
  {
   "cell_type": "code",
   "execution_count": 1,
   "metadata": {},
   "outputs": [],
   "source": [
    "import tensorflow as tf\n",
    "import tensorflow_probability as tfp\n",
    "import numpy as np\n",
    "from tensorflow.keras import datasets, layers, utils, Sequential, Model\n",
    "import matplotlib.pyplot as plt"
   ]
  },
  {
   "cell_type": "markdown",
   "metadata": {},
   "source": [
    "# Utils"
   ]
  },
  {
   "cell_type": "code",
   "execution_count": 2,
   "metadata": {},
   "outputs": [],
   "source": [
    "(train_x, train_y), (test_x, test_y) = datasets.mnist.load_data()\n",
    "train_x = train_x.reshape([train_x.shape[0], -1]) / 255.\n",
    "test_x = test_x.reshape([test_x.shape[0], -1]) / 255.\n",
    "\n",
    "train_y = utils.to_categorical(train_y, 10)\n",
    "test_y = utils.to_categorical(test_y, 10)"
   ]
  },
  {
   "cell_type": "code",
   "execution_count": 3,
   "metadata": {},
   "outputs": [
    {
     "name": "stdout",
     "output_type": "stream",
     "text": [
      "(60000, 784) (10000, 784)\n"
     ]
    }
   ],
   "source": [
    "print(train_x.shape, test_x.shape)"
   ]
  },
  {
   "cell_type": "code",
   "execution_count": 4,
   "metadata": {},
   "outputs": [],
   "source": [
    "def plot_wb(model):\n",
    "    \n",
    "    # Take all layers except last one (because no DSD layers.)\n",
    "    for i, l in enumerate(model.layers[:-1]):\n",
    "        # Plot.\n",
    "        fig = plt.figure(figsize=(15,5))\n",
    "\n",
    "        fig.add_subplot(1,2,1)\n",
    "        plt.title(\"weights \" + l.name)\n",
    "        plt.hist(l.get_weights()[0].flatten(), bins=100);\n",
    "\n",
    "        fig.add_subplot(1,2,2)\n",
    "        plt.title(\"biases \" + l.name)\n",
    "        plt.hist(l.get_weights()[1].flatten(), bins=100);\n",
    "\n",
    "def wb_non_zero_percentage(model):\n",
    "    pos_last_layer = len(model.layers) - 1\n",
    "\n",
    "    for i, l in enumerate(model.layers):\n",
    "\n",
    "        # Take all dense layer except last one,\n",
    "        if i != pos_last_layer and  i % 2 == 0:\n",
    "            w, b = model.layers[0].get_weights()\n",
    "\n",
    "            non_zero_w = tf.math.count_nonzero(w)\n",
    "            total_w = tf.reshape(w, [-1]).shape[0]\n",
    "            res_w = (non_zero_w / total_w).numpy() * 100\n",
    "\n",
    "            non_zero_b = tf.math.count_nonzero(w)\n",
    "            total_b = tf.reshape(w, [-1]).shape[0]\n",
    "            res_b = (non_zero_b / total_b).numpy() * 100\n",
    "\n",
    "            print(\"Percentage of non-zero value \" + l.name + \": w = {} | b = {}\".format(res_w, res_b))"
   ]
  },
  {
   "cell_type": "markdown",
   "metadata": {},
   "source": [
    "# Model creation"
   ]
  },
  {
   "cell_type": "code",
   "execution_count": 10,
   "metadata": {},
   "outputs": [],
   "source": [
    "#TODO: When creating NN model, can't access weights because it wasn't initialize yet.\n",
    "# "
   ]
  },
  {
   "cell_type": "code",
   "execution_count": 211,
   "metadata": {},
   "outputs": [
    {
     "name": "stdout",
     "output_type": "stream",
     "text": [
      "<tf.Variable 'Variable:0' shape=() dtype=int32, numpy=1>\n",
      "<tf.Variable 'Variable:0' shape=() dtype=int32, numpy=2>\n"
     ]
    }
   ],
   "source": [
    "L = [tf.Variable(1), tf.Variable(2)]\n",
    "for v in L:\n",
    "    print(v)"
   ]
  },
  {
   "cell_type": "code",
   "execution_count": 212,
   "metadata": {
    "scrolled": true
   },
   "outputs": [],
   "source": [
    "class NN(Model):\n",
    "    def __init__(self, inputs_shape= 28 * 28, sparsity=0.5):\n",
    "        super(NN, self).__init__()\n",
    "        \n",
    "        self.is_train_on_sparse = tf.Variable(False)\n",
    "        self.inputs_shape = inputs_shape\n",
    "        self.sparsity = sparsity\n",
    "        \n",
    "        self.fc1 = layers.Dense(512, activation=\"relu\", kernel_initializer='glorot_uniform')\n",
    "        self.fc2 = layers.Dense(256, activation=\"relu\", kernel_initializer='glorot_uniform')\n",
    "        self.fc3 = layers.Dense(128, activation=\"relu\", kernel_initializer='glorot_uniform')\n",
    "        self.fc4 = layers.Dense(10, activation=\"softmax\", kernel_initializer='glorot_uniform')\n",
    "        \n",
    "        self.dense_layers_with_dsd = [self.fc1, self.fc2, self.fc3]\n",
    "        \n",
    "    def reset_masks(self):\n",
    "        self.masks = []\n",
    "        \n",
    "        for layer in self.dense_layers_with_dsd:\n",
    "            \n",
    "            # TODO: use layer.weights instead of get_weights()?\n",
    "            # This will return a Tensor instead of np.array.\n",
    "            \n",
    "            w, b = layer.get_weights()\n",
    "            tf_w = tf.Variable(np.ones_like(w))\n",
    "            tf_b = tf.Variable(np.ones_like(b))\n",
    "            \n",
    "            self.masks.append((tf_w, tf_b))\n",
    "        \n",
    "        return self.masks\n",
    "        \n",
    "    def get_pruning_masks(self, wb):\n",
    "        \"\"\"\n",
    "            Returns mask for weights and biases.\n",
    "        \"\"\"\n",
    "\n",
    "        w = tf.convert_to_tensor(wb[0], dtype=tf.float32)\n",
    "        b = tf.convert_to_tensor(wb[1], dtype=tf.float32)\n",
    "\n",
    "        # Weight\n",
    "        qk = tfp.stats.percentile(tf.math.abs(w), q = self.sparsity * 100)\n",
    "        mask_w = tf.where(tf.math.abs(w) < qk, 0., 1.)\n",
    "\n",
    "        # Bias\n",
    "        qk = tfp.stats.percentile(tf.math.abs(b), q = self.sparsity * 100)\n",
    "        mask_b = tf.where(tf.math.abs(b) < qk, 0., 1.)\n",
    "\n",
    "        #print(\"Mask shape:\", mask_w.shape, mask_b.shape)\n",
    "\n",
    "        return mask_w, mask_b\n",
    "        \n",
    "    def prune_layers(self):\n",
    "    \n",
    "        for i, (layer, (w, b)) in enumerate(zip(self.dense_layers_with_dsd, self.masks)):\n",
    "            \n",
    "            # This return a Tensor while get_weights() return np.array.\n",
    "            curr_wb = layer.weights\n",
    "            \n",
    "            # Get pruning masks\n",
    "            mask_w, mask_b = self.get_pruning_masks(curr_wb)\n",
    "            \n",
    "            # Keep track of masks for \"Training on Sparse\" step.\n",
    "            self.masks[i][0].assign(mask_w)\n",
    "            self.masks[i][1].assign(mask_b)\n",
    "            \n",
    "            # Apply masks to each layer.\n",
    "            curr_wb[0].assign(curr_wb[0] * mask_w)\n",
    "            curr_wb[1].assign(curr_wb[1] * mask_b)\n",
    "            \n",
    "        \n",
    "            layer.set_weights((curr_wb[0].numpy(), curr_wb[1].numpy()))\n",
    "            \n",
    "    \n",
    "    def activate_train_on_sparse(self):\n",
    "        self.is_train_on_sparse.assign(True)\n",
    "        \n",
    "    def deactivate_train_on_sparse(self):\n",
    "        self.is_train_on_sparse.assign(False)\n",
    "    \n",
    "    def call(self, x):\n",
    "        \n",
    "        x = self.fc1(x)\n",
    "        #x = tf.cond(self.is_train_on_sparse, lambda: x * self.masks[0][0], lambda: x)\n",
    "        x = tf.cond(self.is_train_on_sparse, lambda: x, lambda: x)\n",
    "    \n",
    "        x = self.fc2(x)\n",
    "        #x = tf.cond(self.is_train_on_sparse, lambda: x * self.masks[1][0], lambda: x)\n",
    "        x = tf.cond(self.is_train_on_sparse, lambda: x, lambda: x)\n",
    "        \n",
    "        x = self.fc3(x)\n",
    "        #x = tf.cond(self.is_train_on_sparse, lambda: x * self.masks[2][0], lambda: x)\n",
    "        x = tf.cond(self.is_train_on_sparse, lambda: x, lambda: x)\n",
    "        \n",
    "        x = self.fc4(x)\n",
    "        return x\n",
    "\n",
    "    def build_model(self):\n",
    "        x = layers.Input(shape=self.inputs_shape)\n",
    "        return Model(inputs=[x], outputs = self.call(x))        "
   ]
  },
  {
   "cell_type": "code",
   "execution_count": 213,
   "metadata": {
    "scrolled": true
   },
   "outputs": [],
   "source": [
    "sparsity_global_variable = 0.5\n",
    "\n",
    "model = NN(sparsity=sparsity_global_variable)\n",
    "model.build_model()#.summary()\n",
    "model.reset_masks()\n",
    "\n",
    "model.compile(optimizer=\"adam\", loss=\"categorical_crossentropy\", metrics=[\"accuracy\"])"
   ]
  },
  {
   "cell_type": "code",
   "execution_count": 214,
   "metadata": {
    "scrolled": false
   },
   "outputs": [],
   "source": [
    "model.prune_layers()"
   ]
  },
  {
   "cell_type": "code",
   "execution_count": 216,
   "metadata": {
    "scrolled": false
   },
   "outputs": [
    {
     "data": {
      "image/png": "[encoded data removed]",
      "text/plain": [
       "<Figure size 1080x360 with 2 Axes>"
      ]
     },
     "metadata": {
      "needs_background": "light"
     },
     "output_type": "display_data"
    },
    {
     "data": {
      "image/png": "[encoded data removed]",
      "text/plain": [
       "<Figure size 1080x360 with 2 Axes>"
      ]
     },
     "metadata": {
      "needs_background": "light"
     },
     "output_type": "display_data"
    },
    {
     "data": {
      "image/png": "[encoded data removed]",
      "text/plain": [
       "<Figure size 1080x360 with 2 Axes>"
      ]
     },
     "metadata": {
      "needs_background": "light"
     },
     "output_type": "display_data"
    }
   ],
   "source": [
    "plot_wb(model)"
   ]
  },
  {
   "cell_type": "markdown",
   "metadata": {},
   "source": [
    "# I/ Training"
   ]
  },
  {
   "cell_type": "code",
   "execution_count": 119,
   "metadata": {
    "scrolled": true
   },
   "outputs": [
    {
     "name": "stdout",
     "output_type": "stream",
     "text": [
      "WARNING:tensorflow:The dtype of the source tensor must be floating (e.g. tf.float32) when calling GradientTape.gradient, got tf.bool\n",
      "WARNING:tensorflow:Gradients do not exist for variables ['Variable:0', 'Variable:0', 'Variable:0', 'Variable:0', 'Variable:0', 'Variable:0', 'Variable:0'] when minimizing the loss.\n",
      "WARNING:tensorflow:The dtype of the source tensor must be floating (e.g. tf.float32) when calling GradientTape.gradient, got tf.bool\n",
      "WARNING:tensorflow:Gradients do not exist for variables ['Variable:0', 'Variable:0', 'Variable:0', 'Variable:0', 'Variable:0', 'Variable:0', 'Variable:0'] when minimizing the loss.\n",
      " 240/1875 [==>...........................] - ETA: 10s - loss: 0.7788 - accuracy: 0.7512"
     ]
    },
    {
     "ename": "KeyboardInterrupt",
     "evalue": "",
     "output_type": "error",
     "traceback": [
      "\u001b[0;31m---------------------------------------------------------------------------\u001b[0m",
      "\u001b[0;31mKeyboardInterrupt\u001b[0m                         Traceback (most recent call last)",
      "\u001b[0;32m<ipython-input-119-abab89aa6e1a>\u001b[0m in \u001b[0;36m<module>\u001b[0;34m\u001b[0m\n\u001b[0;32m----> 1\u001b[0;31m \u001b[0mmodel\u001b[0m\u001b[0;34m.\u001b[0m\u001b[0mfit\u001b[0m\u001b[0;34m(\u001b[0m\u001b[0mtrain_x\u001b[0m\u001b[0;34m,\u001b[0m \u001b[0mtrain_y\u001b[0m\u001b[0;34m,\u001b[0m \u001b[0mepochs\u001b[0m\u001b[0;34m=\u001b[0m\u001b[0;36m1\u001b[0m\u001b[0;34m,\u001b[0m \u001b[0mworkers\u001b[0m\u001b[0;34m=\u001b[0m\u001b[0;36m1\u001b[0m\u001b[0;34m)\u001b[0m\u001b[0;34m\u001b[0m\u001b[0;34m\u001b[0m\u001b[0m\n\u001b[0m",
      "\u001b[0;32m~/Documents/DSD/env/lib/python3.6/site-packages/tensorflow/python/keras/engine/training.py\u001b[0m in \u001b[0;36mfit\u001b[0;34m(self, x, y, batch_size, epochs, verbose, callbacks, validation_split, validation_data, shuffle, class_weight, sample_weight, initial_epoch, steps_per_epoch, validation_steps, validation_batch_size, validation_freq, max_queue_size, workers, use_multiprocessing)\u001b[0m\n\u001b[1;32m   1098\u001b[0m                 _r=1):\n\u001b[1;32m   1099\u001b[0m               \u001b[0mcallbacks\u001b[0m\u001b[0;34m.\u001b[0m\u001b[0mon_train_batch_begin\u001b[0m\u001b[0;34m(\u001b[0m\u001b[0mstep\u001b[0m\u001b[0;34m)\u001b[0m\u001b[0;34m\u001b[0m\u001b[0;34m\u001b[0m\u001b[0m\n\u001b[0;32m-> 1100\u001b[0;31m               \u001b[0mtmp_logs\u001b[0m \u001b[0;34m=\u001b[0m \u001b[0mself\u001b[0m\u001b[0;34m.\u001b[0m\u001b[0mtrain_function\u001b[0m\u001b[0;34m(\u001b[0m\u001b[0miterator\u001b[0m\u001b[0;34m)\u001b[0m\u001b[0;34m\u001b[0m\u001b[0;34m\u001b[0m\u001b[0m\n\u001b[0m\u001b[1;32m   1101\u001b[0m               \u001b[0;32mif\u001b[0m \u001b[0mdata_handler\u001b[0m\u001b[0;34m.\u001b[0m\u001b[0mshould_sync\u001b[0m\u001b[0;34m:\u001b[0m\u001b[0;34m\u001b[0m\u001b[0;34m\u001b[0m\u001b[0m\n\u001b[1;32m   1102\u001b[0m                 \u001b[0mcontext\u001b[0m\u001b[0;34m.\u001b[0m\u001b[0masync_wait\u001b[0m\u001b[0;34m(\u001b[0m\u001b[0;34m)\u001b[0m\u001b[0;34m\u001b[0m\u001b[0;34m\u001b[0m\u001b[0m\n",
      "\u001b[0;32m~/Documents/DSD/env/lib/python3.6/site-packages/tensorflow/python/eager/def_function.py\u001b[0m in \u001b[0;36m__call__\u001b[0;34m(self, *args, **kwds)\u001b[0m\n\u001b[1;32m    826\u001b[0m     \u001b[0mtracing_count\u001b[0m \u001b[0;34m=\u001b[0m \u001b[0mself\u001b[0m\u001b[0;34m.\u001b[0m\u001b[0mexperimental_get_tracing_count\u001b[0m\u001b[0;34m(\u001b[0m\u001b[0;34m)\u001b[0m\u001b[0;34m\u001b[0m\u001b[0;34m\u001b[0m\u001b[0m\n\u001b[1;32m    827\u001b[0m     \u001b[0;32mwith\u001b[0m \u001b[0mtrace\u001b[0m\u001b[0;34m.\u001b[0m\u001b[0mTrace\u001b[0m\u001b[0;34m(\u001b[0m\u001b[0mself\u001b[0m\u001b[0;34m.\u001b[0m\u001b[0m_name\u001b[0m\u001b[0;34m)\u001b[0m \u001b[0;32mas\u001b[0m \u001b[0mtm\u001b[0m\u001b[0;34m:\u001b[0m\u001b[0;34m\u001b[0m\u001b[0;34m\u001b[0m\u001b[0m\n\u001b[0;32m--> 828\u001b[0;31m       \u001b[0mresult\u001b[0m \u001b[0;34m=\u001b[0m \u001b[0mself\u001b[0m\u001b[0;34m.\u001b[0m\u001b[0m_call\u001b[0m\u001b[0;34m(\u001b[0m\u001b[0;34m*\u001b[0m\u001b[0margs\u001b[0m\u001b[0;34m,\u001b[0m \u001b[0;34m**\u001b[0m\u001b[0mkwds\u001b[0m\u001b[0;34m)\u001b[0m\u001b[0;34m\u001b[0m\u001b[0;34m\u001b[0m\u001b[0m\n\u001b[0m\u001b[1;32m    829\u001b[0m       \u001b[0mcompiler\u001b[0m \u001b[0;34m=\u001b[0m \u001b[0;34m\"xla\"\u001b[0m \u001b[0;32mif\u001b[0m \u001b[0mself\u001b[0m\u001b[0;34m.\u001b[0m\u001b[0m_experimental_compile\u001b[0m \u001b[0;32melse\u001b[0m \u001b[0;34m\"nonXla\"\u001b[0m\u001b[0;34m\u001b[0m\u001b[0;34m\u001b[0m\u001b[0m\n\u001b[1;32m    830\u001b[0m       \u001b[0mnew_tracing_count\u001b[0m \u001b[0;34m=\u001b[0m \u001b[0mself\u001b[0m\u001b[0;34m.\u001b[0m\u001b[0mexperimental_get_tracing_count\u001b[0m\u001b[0;34m(\u001b[0m\u001b[0;34m)\u001b[0m\u001b[0;34m\u001b[0m\u001b[0;34m\u001b[0m\u001b[0m\n",
      "\u001b[0;32m~/Documents/DSD/env/lib/python3.6/site-packages/tensorflow/python/eager/def_function.py\u001b[0m in \u001b[0;36m_call\u001b[0;34m(self, *args, **kwds)\u001b[0m\n\u001b[1;32m    853\u001b[0m       \u001b[0;31m# In this case we have created variables on the first call, so we run the\u001b[0m\u001b[0;34m\u001b[0m\u001b[0;34m\u001b[0m\u001b[0;34m\u001b[0m\u001b[0m\n\u001b[1;32m    854\u001b[0m       \u001b[0;31m# defunned version which is guaranteed to never create variables.\u001b[0m\u001b[0;34m\u001b[0m\u001b[0;34m\u001b[0m\u001b[0;34m\u001b[0m\u001b[0m\n\u001b[0;32m--> 855\u001b[0;31m       \u001b[0;32mreturn\u001b[0m \u001b[0mself\u001b[0m\u001b[0;34m.\u001b[0m\u001b[0m_stateless_fn\u001b[0m\u001b[0;34m(\u001b[0m\u001b[0;34m*\u001b[0m\u001b[0margs\u001b[0m\u001b[0;34m,\u001b[0m \u001b[0;34m**\u001b[0m\u001b[0mkwds\u001b[0m\u001b[0;34m)\u001b[0m  \u001b[0;31m# pylint: disable=not-callable\u001b[0m\u001b[0;34m\u001b[0m\u001b[0;34m\u001b[0m\u001b[0m\n\u001b[0m\u001b[1;32m    856\u001b[0m     \u001b[0;32melif\u001b[0m \u001b[0mself\u001b[0m\u001b[0;34m.\u001b[0m\u001b[0m_stateful_fn\u001b[0m \u001b[0;32mis\u001b[0m \u001b[0;32mnot\u001b[0m \u001b[0;32mNone\u001b[0m\u001b[0;34m:\u001b[0m\u001b[0;34m\u001b[0m\u001b[0;34m\u001b[0m\u001b[0m\n\u001b[1;32m    857\u001b[0m       \u001b[0;31m# Release the lock early so that multiple threads can perform the call\u001b[0m\u001b[0;34m\u001b[0m\u001b[0;34m\u001b[0m\u001b[0;34m\u001b[0m\u001b[0m\n",
      "\u001b[0;32m~/Documents/DSD/env/lib/python3.6/site-packages/tensorflow/python/eager/function.py\u001b[0m in \u001b[0;36m__call__\u001b[0;34m(self, *args, **kwargs)\u001b[0m\n\u001b[1;32m   2941\u001b[0m        filtered_flat_args) = self._maybe_define_function(args, kwargs)\n\u001b[1;32m   2942\u001b[0m     return graph_function._call_flat(\n\u001b[0;32m-> 2943\u001b[0;31m         filtered_flat_args, captured_inputs=graph_function.captured_inputs)  # pylint: disable=protected-access\n\u001b[0m\u001b[1;32m   2944\u001b[0m \u001b[0;34m\u001b[0m\u001b[0m\n\u001b[1;32m   2945\u001b[0m   \u001b[0;34m@\u001b[0m\u001b[0mproperty\u001b[0m\u001b[0;34m\u001b[0m\u001b[0;34m\u001b[0m\u001b[0m\n",
      "\u001b[0;32m~/Documents/DSD/env/lib/python3.6/site-packages/tensorflow/python/eager/function.py\u001b[0m in \u001b[0;36m_call_flat\u001b[0;34m(self, args, captured_inputs, cancellation_manager)\u001b[0m\n\u001b[1;32m   1917\u001b[0m       \u001b[0;31m# No tape is watching; skip to running the function.\u001b[0m\u001b[0;34m\u001b[0m\u001b[0;34m\u001b[0m\u001b[0;34m\u001b[0m\u001b[0m\n\u001b[1;32m   1918\u001b[0m       return self._build_call_outputs(self._inference_function.call(\n\u001b[0;32m-> 1919\u001b[0;31m           ctx, args, cancellation_manager=cancellation_manager))\n\u001b[0m\u001b[1;32m   1920\u001b[0m     forward_backward = self._select_forward_and_backward_functions(\n\u001b[1;32m   1921\u001b[0m         \u001b[0margs\u001b[0m\u001b[0;34m,\u001b[0m\u001b[0;34m\u001b[0m\u001b[0;34m\u001b[0m\u001b[0m\n",
      "\u001b[0;32m~/Documents/DSD/env/lib/python3.6/site-packages/tensorflow/python/eager/function.py\u001b[0m in \u001b[0;36mcall\u001b[0;34m(self, ctx, args, cancellation_manager)\u001b[0m\n\u001b[1;32m    558\u001b[0m               \u001b[0minputs\u001b[0m\u001b[0;34m=\u001b[0m\u001b[0margs\u001b[0m\u001b[0;34m,\u001b[0m\u001b[0;34m\u001b[0m\u001b[0;34m\u001b[0m\u001b[0m\n\u001b[1;32m    559\u001b[0m               \u001b[0mattrs\u001b[0m\u001b[0;34m=\u001b[0m\u001b[0mattrs\u001b[0m\u001b[0;34m,\u001b[0m\u001b[0;34m\u001b[0m\u001b[0;34m\u001b[0m\u001b[0m\n\u001b[0;32m--> 560\u001b[0;31m               ctx=ctx)\n\u001b[0m\u001b[1;32m    561\u001b[0m         \u001b[0;32melse\u001b[0m\u001b[0;34m:\u001b[0m\u001b[0;34m\u001b[0m\u001b[0;34m\u001b[0m\u001b[0m\n\u001b[1;32m    562\u001b[0m           outputs = execute.execute_with_cancellation(\n",
      "\u001b[0;32m~/Documents/DSD/env/lib/python3.6/site-packages/tensorflow/python/eager/execute.py\u001b[0m in \u001b[0;36mquick_execute\u001b[0;34m(op_name, num_outputs, inputs, attrs, ctx, name)\u001b[0m\n\u001b[1;32m     58\u001b[0m     \u001b[0mctx\u001b[0m\u001b[0;34m.\u001b[0m\u001b[0mensure_initialized\u001b[0m\u001b[0;34m(\u001b[0m\u001b[0;34m)\u001b[0m\u001b[0;34m\u001b[0m\u001b[0;34m\u001b[0m\u001b[0m\n\u001b[1;32m     59\u001b[0m     tensors = pywrap_tfe.TFE_Py_Execute(ctx._handle, device_name, op_name,\n\u001b[0;32m---> 60\u001b[0;31m                                         inputs, attrs, num_outputs)\n\u001b[0m\u001b[1;32m     61\u001b[0m   \u001b[0;32mexcept\u001b[0m \u001b[0mcore\u001b[0m\u001b[0;34m.\u001b[0m\u001b[0m_NotOkStatusException\u001b[0m \u001b[0;32mas\u001b[0m \u001b[0me\u001b[0m\u001b[0;34m:\u001b[0m\u001b[0;34m\u001b[0m\u001b[0;34m\u001b[0m\u001b[0m\n\u001b[1;32m     62\u001b[0m     \u001b[0;32mif\u001b[0m \u001b[0mname\u001b[0m \u001b[0;32mis\u001b[0m \u001b[0;32mnot\u001b[0m \u001b[0;32mNone\u001b[0m\u001b[0;34m:\u001b[0m\u001b[0;34m\u001b[0m\u001b[0;34m\u001b[0m\u001b[0m\n",
      "\u001b[0;31mKeyboardInterrupt\u001b[0m: "
     ]
    }
   ],
   "source": [
    "model.fit(train_x, train_y, epochs=1, workers=1)"
   ]
  },
  {
   "cell_type": "code",
   "execution_count": 43,
   "metadata": {
    "scrolled": true
   },
   "outputs": [],
   "source": [
    "# plot_wb(model)"
   ]
  },
  {
   "cell_type": "markdown",
   "metadata": {},
   "source": [
    "# II/ Prune the network"
   ]
  },
  {
   "cell_type": "code",
   "execution_count": null,
   "metadata": {},
   "outputs": [],
   "source": []
  },
  {
   "cell_type": "code",
   "execution_count": 101,
   "metadata": {},
   "outputs": [],
   "source": [
    "# sparsity = 0.25\n",
    "# w = model.layers[0].get_weights()[0]\n",
    "\n",
    "# qk = tfp.stats.percentile(tf.math.abs(w), q = sparsity * 100)\n",
    "# pruned = tf.where(tf.math.abs(w) <= qk, 0., w)\n",
    "\n",
    "# non_zero = tf.math.count_nonzero(pruned)\n",
    "# total = tf.reshape(w, [-1]).shape[0]\n",
    "# print(\"Percentage of non zero value:\", (non_zero / total).numpy())"
   ]
  },
  {
   "cell_type": "code",
   "execution_count": 102,
   "metadata": {
    "scrolled": true
   },
   "outputs": [],
   "source": [
    "# plt.figure()\n",
    "# plt.hist(pruned.numpy().flatten(), bins=100, range=(-0.055, 0.055));"
   ]
  },
  {
   "cell_type": "code",
   "execution_count": 103,
   "metadata": {},
   "outputs": [],
   "source": [
    "# def pruning(wb, sparsity):\n",
    "#     \"\"\"\n",
    "#         Returns mask for weights and biases.\n",
    "#     \"\"\"\n",
    "\n",
    "#     w = tf.convert_to_tensor(wb[0], dtype=tf.float32)\n",
    "#     b = tf.convert_to_tensor(wb[1], dtype=tf.float32)\n",
    "    \n",
    "#     # Weight\n",
    "#     qk = tfp.stats.percentile(tf.math.abs(w), q = sparsity * 100)\n",
    "#     mask_w = tf.where(tf.math.abs(w) < qk, 0., 1.)\n",
    "    \n",
    "#     # Bias\n",
    "#     qk = tfp.stats.percentile(tf.math.abs(b), q = sparsity * 100)\n",
    "#     mask_b = tf.where(tf.math.abs(b) < qk, 0., 1.)\n",
    "    \n",
    "#     #print(\"Mask shape:\", mask_w.shape, mask_b.shape)\n",
    "    \n",
    "#     return mask_w, mask_b"
   ]
  },
  {
   "cell_type": "code",
   "execution_count": 104,
   "metadata": {},
   "outputs": [],
   "source": [
    "# pos_last_layer = len(model.layers) - 1\n",
    "\n",
    "# for i, l in enumerate(model.layers):\n",
    "    \n",
    "#     # Take all dense layer except last one,\n",
    "#     if i != pos_last_layer and  i % 2 == 0:\n",
    "        \n",
    "#         wb = l.get_weights()\n",
    "        \n",
    "#         mask_w, mask_b = pruning(wb, sparsity_global_variable)\n",
    "#         # Apply mask to weights\n",
    "#         wb[0] = wb[0] * mask_w\n",
    "#         # Apply mask to biases\n",
    "#         wb[1] = wb[1] * mask_b\n",
    "        \n",
    "#         l.set_weights(wb)\n",
    "        \n",
    "#         # Plot.\n",
    "#         fig = plt.figure(figsize=(15,5))\n",
    "        \n",
    "#         fig.add_subplot(1,2,1)\n",
    "#         plt.title(\"weights \" + l.name)\n",
    "#         plt.hist(l.get_weights()[0].flatten(), bins=100);\n",
    "        \n",
    "#         fig.add_subplot(1,2,2)\n",
    "#         plt.title(\"biases \" + l.name)\n",
    "#         plt.hist(l.get_weights()[1].flatten(), bins=100);"
   ]
  },
  {
   "cell_type": "code",
   "execution_count": 105,
   "metadata": {},
   "outputs": [
    {
     "name": "stdout",
     "output_type": "stream",
     "text": [
      "Percentage of non-zero value dense_55: w = 100.0 | b = 100.0\n",
      "Percentage of non-zero value dense_57: w = 100.0 | b = 100.0\n"
     ]
    }
   ],
   "source": [
    "wb_non_zero_percentage(model)"
   ]
  },
  {
   "cell_type": "markdown",
   "metadata": {},
   "source": [
    "# III/ Train on Sparse"
   ]
  },
  {
   "cell_type": "code",
   "execution_count": 85,
   "metadata": {},
   "outputs": [],
   "source": [
    "model.layers[1].sparse_training = False\n",
    "model.layers[3].sparse_training = False\n",
    "model.layers[5].sparse_training = False"
   ]
  },
  {
   "cell_type": "code",
   "execution_count": 86,
   "metadata": {},
   "outputs": [
    {
     "name": "stdout",
     "output_type": "stream",
     "text": [
      "Regular\n",
      "Regular\n",
      "Regular\n",
      "Regular\n",
      "Regular\n",
      "Regular\n",
      "1875/1875 [==============================] - 19s 10ms/step - loss: 0.1085 - accuracy: 0.9681\n"
     ]
    },
    {
     "data": {
      "text/plain": [
       "<tensorflow.python.keras.callbacks.History at 0x7f19f42b8748>"
      ]
     },
     "execution_count": 86,
     "metadata": {},
     "output_type": "execute_result"
    }
   ],
   "source": [
    "model.compile(optimizer='adam', loss=\"categorical_crossentropy\", metrics=[\"accuracy\"])\n",
    "model.fit(train_x, train_y, epochs=1)"
   ]
  },
  {
   "cell_type": "code",
   "execution_count": 87,
   "metadata": {},
   "outputs": [
    {
     "data": {
      "image/png": "[encoded data removed]",
      "text/plain": [
       "<Figure size 1080x360 with 2 Axes>"
      ]
     },
     "metadata": {
      "needs_background": "light"
     },
     "output_type": "display_data"
    },
    {
     "data": {
      "image/png": "[encoded data removed]",
      "text/plain": [
       "<Figure size 1080x360 with 2 Axes>"
      ]
     },
     "metadata": {
      "needs_background": "light"
     },
     "output_type": "display_data"
    },
    {
     "data": {
      "image/png": "[encoded data removed]",
      "text/plain": [
       "<Figure size 1080x360 with 2 Axes>"
      ]
     },
     "metadata": {
      "needs_background": "light"
     },
     "output_type": "display_data"
    }
   ],
   "source": [
    "plot_wb(model)"
   ]
  },
  {
   "cell_type": "code",
   "execution_count": 88,
   "metadata": {},
   "outputs": [
    {
     "name": "stdout",
     "output_type": "stream",
     "text": [
      "Percentage of non-zero value dense_16: w = 83.82618183992348 | b = 83.82618183992348\n",
      "Percentage of non-zero value dense_17: w = 83.82618183992348 | b = 83.82618183992348\n",
      "Percentage of non-zero value dense_18: w = 83.82618183992348 | b = 83.82618183992348\n"
     ]
    }
   ],
   "source": [
    "wb_non_zero_percentage(model)"
   ]
  },
  {
   "cell_type": "code",
   "execution_count": null,
   "metadata": {},
   "outputs": [],
   "source": []
  }
 ],
 "metadata": {
  "kernelspec": {
   "display_name": "env",
   "language": "python",
   "name": "env"
  },
  "language_info": {
   "codemirror_mode": {
    "name": "ipython",
    "version": 3
   },
   "file_extension": ".py",
   "mimetype": "text/x-python",
   "name": "python",
   "nbconvert_exporter": "python",
   "pygments_lexer": "ipython3",
   "version": "3.6.9"
  }
 },
 "nbformat": 4,
 "nbformat_minor": 2
}
